{
  "nbformat": 4,
  "nbformat_minor": 0,
  "metadata": {
    "colab": {
      "name": "160923_Guia_2_Taxonomia_de_Flynn.ipynb",
      "provenance": [],
      "include_colab_link": true
    },
    "kernelspec": {
      "name": "python3",
      "display_name": "Python 3"
    }
  },
  "cells": [
    {
      "cell_type": "markdown",
      "metadata": {
        "id": "view-in-github",
        "colab_type": "text"
      },
      "source": [
        "<a href=\"https://colab.research.google.com/github/ParalelaUnsaac/2020-2/blob/main/160923_Guia_2_Taxonomia_de_Flynn.ipynb\" target=\"_parent\"><img src=\"https://colab.research.google.com/assets/colab-badge.svg\" alt=\"Open In Colab\"/></a>"
      ]
    },
    {
      "cell_type": "markdown",
      "metadata": {
        "id": "xCCs96_aEFrD"
      },
      "source": [
        "El siguiente código va a permitir que todo código ejecutado en el colab pueda ser medido"
      ]
    },
    {
      "cell_type": "code",
      "metadata": {
        "colab": {
          "base_uri": "https://localhost:8080/"
        },
        "id": "91EQIkYNzfIU",
        "outputId": "dedd75c4-552a-494f-d18d-c3e521b13f5e"
      },
      "source": [
        "!pip install ipython-autotime\r\n",
        "\r\n",
        "%load_ext autotime"
      ],
      "execution_count": null,
      "outputs": [
        {
          "output_type": "stream",
          "text": [
            "Collecting ipython-autotime\n",
            "  Downloading https://files.pythonhosted.org/packages/3f/58/a4a65efcce5c81a67b6893ade862736de355a3a718af5533d30c991831ce/ipython_autotime-0.2.0-py2.py3-none-any.whl\n",
            "Requirement already satisfied: ipython in /usr/local/lib/python3.6/dist-packages (from ipython-autotime) (5.5.0)\n",
            "Requirement already satisfied: simplegeneric>0.8 in /usr/local/lib/python3.6/dist-packages (from ipython->ipython-autotime) (0.8.1)\n",
            "Requirement already satisfied: decorator in /usr/local/lib/python3.6/dist-packages (from ipython->ipython-autotime) (4.4.2)\n",
            "Requirement already satisfied: pickleshare in /usr/local/lib/python3.6/dist-packages (from ipython->ipython-autotime) (0.7.5)\n",
            "Requirement already satisfied: setuptools>=18.5 in /usr/local/lib/python3.6/dist-packages (from ipython->ipython-autotime) (50.3.2)\n",
            "Requirement already satisfied: pexpect; sys_platform != \"win32\" in /usr/local/lib/python3.6/dist-packages (from ipython->ipython-autotime) (4.8.0)\n",
            "Requirement already satisfied: pygments in /usr/local/lib/python3.6/dist-packages (from ipython->ipython-autotime) (2.6.1)\n",
            "Requirement already satisfied: traitlets>=4.2 in /usr/local/lib/python3.6/dist-packages (from ipython->ipython-autotime) (4.3.3)\n",
            "Requirement already satisfied: prompt-toolkit<2.0.0,>=1.0.4 in /usr/local/lib/python3.6/dist-packages (from ipython->ipython-autotime) (1.0.18)\n",
            "Requirement already satisfied: ptyprocess>=0.5 in /usr/local/lib/python3.6/dist-packages (from pexpect; sys_platform != \"win32\"->ipython->ipython-autotime) (0.6.0)\n",
            "Requirement already satisfied: ipython-genutils in /usr/local/lib/python3.6/dist-packages (from traitlets>=4.2->ipython->ipython-autotime) (0.2.0)\n",
            "Requirement already satisfied: six in /usr/local/lib/python3.6/dist-packages (from traitlets>=4.2->ipython->ipython-autotime) (1.15.0)\n",
            "Requirement already satisfied: wcwidth in /usr/local/lib/python3.6/dist-packages (from prompt-toolkit<2.0.0,>=1.0.4->ipython->ipython-autotime) (0.2.5)\n",
            "Installing collected packages: ipython-autotime\n",
            "Successfully installed ipython-autotime-0.2.0\n",
            "time: 157 µs\n"
          ],
          "name": "stdout"
        }
      ]
    },
    {
      "cell_type": "code",
      "metadata": {
        "colab": {
          "base_uri": "https://localhost:8080/"
        },
        "id": "EfRNKumpFJaN",
        "outputId": "a1af1959-93e1-491b-8667-973e491223e1"
      },
      "source": [
        "print(sum(range(10)))"
      ],
      "execution_count": null,
      "outputs": [
        {
          "output_type": "stream",
          "text": [
            "45\n",
            "time: 1.05 ms\n"
          ],
          "name": "stdout"
        }
      ]
    },
    {
      "cell_type": "markdown",
      "metadata": {
        "id": "u1gd4K6TFdSn"
      },
      "source": [
        "Pregunta #1: Que porción de 1 segundo es el valor impreso? Es milesegundo.\r\n"
      ]
    },
    {
      "cell_type": "markdown",
      "metadata": {
        "id": "_Hl8sQD1HMKz"
      },
      "source": [
        "\r\n",
        "---\r\n",
        "\r\n"
      ]
    },
    {
      "cell_type": "markdown",
      "metadata": {
        "id": "06N5iGs0F-KK"
      },
      "source": [
        "A seguir, tenemos una librería de Python llamado **numba** que realiza paralelización automatica. Asi, se puede verificar que al usar prange() se tiene mejor tiempo de ejecución que al usar range()"
      ]
    },
    {
      "cell_type": "code",
      "metadata": {
        "colab": {
          "base_uri": "https://localhost:8080/"
        },
        "id": "4pfRIJ1ajxKD",
        "outputId": "7dd4a415-4599-43e9-e86b-60015250eb6e"
      },
      "source": [
        "from numba import njit, prange\r\n",
        "import numpy  \r\n",
        "A = np.arange(5, 14)\r\n",
        "@njit(parallel=True)\r\n",
        "def prange_test(A):\r\n",
        "    s = 0\r\n",
        "    # Without \"parallel=True\" in the jit-decorator\r\n",
        "    # the prange statement is equivalent to range\r\n",
        "    for i in prange(A.shape[0]):\r\n",
        "        s += A[i]\r\n",
        "    return s\r\n",
        "\r\n",
        "print(prange_test(A))"
      ],
      "execution_count": null,
      "outputs": [
        {
          "output_type": "stream",
          "text": [
            "81\n",
            "time: 426 ms\n"
          ],
          "name": "stdout"
        }
      ]
    },
    {
      "cell_type": "code",
      "metadata": {
        "colab": {
          "base_uri": "https://localhost:8080/"
        },
        "id": "pmy4BS66k4TB",
        "outputId": "38bcdbe3-a55a-429a-800f-8e8782e038cf"
      },
      "source": [
        "from numba import njit, prange\r\n",
        "import numpy as np\r\n",
        "\r\n",
        "A = np.arange(5, 14)\r\n",
        "#@njit(parallel=True)\r\n",
        "def prange_test(A):\r\n",
        "    s = 0\r\n",
        "    # Without \"parallel=True\" in the jit-decorator\r\n",
        "    # the prange statement is equivalent to range\r\n",
        "    for i in range(A.shape[0]):\r\n",
        "\r\n",
        "        s += A[i]\r\n",
        "       \r\n",
        "    return s\r\n",
        "\r\n",
        "print(prange_test(A))\r\n",
        "\r\n"
      ],
      "execution_count": null,
      "outputs": [
        {
          "output_type": "stream",
          "text": [
            "[ 5  6  7  8  9 10 11 12 13]\n",
            "81\n",
            "time: 15.4 ms\n"
          ],
          "name": "stdout"
        }
      ]
    },
    {
      "cell_type": "markdown",
      "metadata": {
        "id": "QAl9s67VKzEh"
      },
      "source": [
        "Pregunta #2: identifique otros valores en A, de manera que, serializando, tengamos mejor resultado que paralelizando :\r\n",
        "\r\n",
        " Respecto a esto podemos inferir que es mejor serializar si vamos usar  pocas cantidades de datos ya que el  tiempo de ejecucion es mejor que del otro caso pero si vamos  a tener grandes catidades de elementos en nuestro arreglo va ha demorar."
      ]
    },
    {
      "cell_type": "markdown",
      "metadata": {
        "id": "qk5RRK--LK8H"
      },
      "source": [
        "\r\n",
        "\r\n",
        "---\r\n",
        "\r\n"
      ]
    },
    {
      "cell_type": "markdown",
      "metadata": {
        "id": "vcEN_PS4LOTq"
      },
      "source": [
        "La Taxonomia de Flynn define 4 tipos de arquitecturas para computación paralela: SISD, SIMD, MISD, y MIMD. \r\n",
        "\r\n",
        "\r\n",
        "---\r\n",
        "\r\n",
        "\r\n",
        "Pregunta #3 : El ultimo código ejecutado es de tipo?\r\n",
        "\r\n",
        "es de tipo SISD"
      ]
    },
    {
      "cell_type": "markdown",
      "metadata": {
        "id": "Hz_y6QaKM_LQ"
      },
      "source": [
        "\r\n",
        "\r\n",
        "---\r\n",
        "\r\n"
      ]
    },
    {
      "cell_type": "markdown",
      "metadata": {
        "id": "rbyAXmF5NDlv"
      },
      "source": [
        "Pregunta #4: segun a la taxonomia de flym el siguiente código paralelo es de tipo? Comentar el código para justificar su respuesta"
      ]
    },
    {
      "cell_type": "code",
      "metadata": {
        "colab": {
          "base_uri": "https://localhost:8080/"
        },
        "id": "J4GKbs1mLeVp",
        "outputId": "ebd16f8e-6a1b-4f80-c9fb-c4ad27b596d3"
      },
      "source": [
        "#input: se crean dos hilos\r\n",
        "#proceseso: el codigo toma dos hijos para luego ejecutarlo sobre la instruccion print_time()\r\n",
        "#se usa los dos hilos sobre print_time()\r\n",
        "#por lo que es multiples datos sobre una instruccion lo que hace referencia  a la taxonomia flym \" SIMD\"\r\n",
        "#ouput: muestra los valores de conunt\r\n",
        "\r\n",
        "import threading\r\n",
        "import time\r\n",
        "#smid\r\n",
        "def print_time(name, n):\r\n",
        "    count = 0   \r\n",
        "    print(\"Para el Hilo: %s, en el momento: %s, su valor de count es: %s\" % ( name, time.ctime(), count))\r\n",
        "    while count < 5:\r\n",
        "        #time.sleep(n)\r\n",
        "        count+=1\r\n",
        "        print(\"%s: %s. count %s\" % ( name, time.ctime(), count))\r\n",
        "\r\n",
        "        \r\n",
        "t1 = threading.Thread(target=print_time, args=(\"Thread-1\", 0, ) )\r\n",
        "t2 = threading.Thread(target=print_time, args=(\"Thread-2\", 0, ) )\r\n",
        "\r\n",
        "t1.start()\r\n",
        "t2.start()"
      ],
      "execution_count": null,
      "outputs": [
        {
          "output_type": "stream",
          "text": [
            "Para el Hilo: Thread-1, en el momento: Thu Dec 10 03:30:34 2020, su valor de count es: 0\n",
            "Thread-1: Thu Dec 10 03:30:34 2020. count 1\n",
            "Thread-1: Thu Dec 10 03:30:34 2020. count 2\n",
            "Thread-1: Thu Dec 10 03:30:34 2020. count 3\n",
            "Thread-1: Thu Dec 10 03:30:34 2020. count 4\n",
            "Thread-1: Thu Dec 10 03:30:34 2020. count 5\n",
            "Para el Hilo: Thread-2, en el momento: Thu Dec 10 03:30:34 2020, su valor de count es: 0time: 17 ms\n",
            "\n",
            "Thread-2: Thu Dec 10 03:30:34 2020. count 1\n",
            "Thread-2: Thu Dec 10 03:30:34 2020. count 2\n",
            "Thread-2: Thu Dec 10 03:30:34 2020. count 3\n",
            "Thread-2: Thu Dec 10 03:30:34 2020. count 4\n",
            "Thread-2: Thu Dec 10 03:30:34 2020. count 5\n"
          ],
          "name": "stdout"
        }
      ]
    },
    {
      "cell_type": "markdown",
      "metadata": {
        "id": "kj5mNpdml0F4"
      },
      "source": [
        "\r\n",
        "\r\n",
        "---\r\n",
        "\r\n"
      ]
    },
    {
      "cell_type": "markdown",
      "metadata": {
        "id": "BjPhiBi7k9CH"
      },
      "source": [
        "Una computadora paralela tipo MIMD es utilizado más en la computación distribuida, ejm. Clusters. El siguiente código en python desktop muestra tal funcionamiento"
      ]
    },
    {
      "cell_type": "code",
      "metadata": {
        "id": "3BKSrHpylh-J"
      },
      "source": [
        "#greeting-server.py\r\n",
        "import Pyro4\r\n",
        "\r\n",
        "@Pyro4.expose\r\n",
        "class GreetingMaker(object):\r\n",
        "    def get_fortune(self, name):\r\n",
        "        return \"Hello, {0}. Here is your fortune message:\\n\" \\\r\n",
        "               \"Behold the warranty -- the bold print giveth and the fine print taketh away.\".format(name)\r\n",
        "\r\n",
        "daemon = Pyro4.Daemon()                # make a Pyro daemon\r\n",
        "uri = daemon.register(GreetingMaker)   # register the greeting maker as a Pyro object\r\n",
        "\r\n",
        "print(\"Ready. Object uri =\", uri)      # print the uri so we can use it in the client later\r\n",
        "daemon.requestLoop()                   # start the event loop of the server to wait for calls"
      ],
      "execution_count": null,
      "outputs": []
    },
    {
      "cell_type": "code",
      "metadata": {
        "id": "UrqRam3ulrvh"
      },
      "source": [
        "#greeting-client.py\r\n",
        "\r\n",
        "import Pyro4\r\n",
        "\r\n",
        "uri = input(\"What is the Pyro uri of the greeting object? \").strip()\r\n",
        "name = input(\"What is your name? \").strip()\r\n",
        "\r\n",
        "greeting_maker = Pyro4.Proxy(uri)         # get a Pyro proxy to the greeting object \r\n",
        "print(greeting_maker.get_fortune(name))   # call method normally"
      ],
      "execution_count": null,
      "outputs": []
    },
    {
      "cell_type": "markdown",
      "metadata": {
        "id": "h177eMCuqEJq"
      },
      "source": [
        "Pregunta #5: Explique que hace este código de tipo MIMD\r\n",
        "\r\n",
        "\r\n",
        "- este codigo  lo que realiza es crear un servidor con \"greeting-server.py\".\r\n",
        "- pide que ingresemos el uri que sera como una clave para conectarse al servidor.\r\n",
        "\r\n",
        "- la libreria Pyro4 hace que nuestro servidor se ejecute en el segundo plano para luego usarlo.\r\n",
        "\r\n",
        "- una vez que nos conectamos al servidor nos pide nuestro nombre para luego mostrarnos un mensaje de saludo.\r\n",
        "\r\n",
        "\r\n",
        "\r\n",
        "\r\n",
        "\r\n",
        "\r\n",
        "\r\n",
        "\r\n",
        "\r\n",
        "\r\n",
        "\r\n",
        "\r\n"
      ]
    },
    {
      "cell_type": "markdown",
      "metadata": {
        "id": "xPk19-hIqNiY"
      },
      "source": [
        "\r\n",
        "\r\n",
        "---\r\n",
        "\r\n"
      ]
    },
    {
      "cell_type": "markdown",
      "metadata": {
        "id": "XPRR57WRNb3M"
      },
      "source": [
        "Ejercicio Propuesto: Crear un ejemplo que muestre una computación paralela de tipo MISD"
      ]
    },
    {
      "cell_type": "code",
      "metadata": {
        "id": "F_n7n-qbQvC-",
        "colab": {
          "base_uri": "https://localhost:8080/"
        },
        "outputId": "8dc207fd-f8cd-4b8a-e466-60e47153747e"
      },
      "source": [
        "#input: creamos un mensaje\r\n",
        "#proceseso: el programa realiza un cifrador que consiste en cambiar las vocales por caracteres diferentes\r\n",
        "#esta accion lo realiza sobre un mensaje usando varias instrucciones para cada caso.\r\n",
        "#ouput: muestra el mensaje con las vocales cambiados por caracteres diferentes\r\n",
        "\r\n",
        "import threading\r\n",
        "import time\r\n",
        "\r\n",
        "def print_time(frase):\r\n",
        "    print(frase)\r\n",
        "    print()\r\n",
        "    traductor =\"\" \r\n",
        "    #print(\"Para el Hilo: %s, en el momento: %s, su valor de count es: %s\" % ( name, time.ctime(), count))\r\n",
        "    for letra in frase:\r\n",
        "      \r\n",
        "      if letra in \"a\": traductor=traductor + \"@\"\r\n",
        "      elif letra in \"e\": traductor=traductor+\"3\"\r\n",
        "      elif letra in \"i\": traductor=traductor+\"!\"\r\n",
        "      elif letra in \"o\": traductor=traductor+\"0\"\r\n",
        "      elif letra in \"u\": traductor=traductor+\"#\"\r\n",
        "\r\n",
        "      else:\r\n",
        "        traductor=traductor + letra\r\n",
        "      print(\" %s. count %s\" % ( traductor, time.ctime(),))\r\n",
        "    \r\n",
        "    print(traductor)\r\n",
        "\r\n",
        "m=\"Hola, esto es mi mensaje secreto\" \r\n",
        "threads = list()\r\n",
        "for i in range(3):\r\n",
        "    t = threading.Thread(target=print_time, args=(m, ) )\r\n",
        "    threads.append(t)\r\n",
        "    t.start()   \r\n",
        "\r\n",
        "     \r\n",
        "\r\n",
        "\r\n",
        "\r\n"
      ],
      "execution_count": 4,
      "outputs": [
        {
          "output_type": "stream",
          "text": [
            "Hola, esto es mi mensaje secreto\n",
            "\n",
            " H. count Sat Jan  2 08:21:52 2021\n",
            " H0. count Sat Jan  2 08:21:52 2021\n",
            " H0l. count Sat Jan  2 08:21:52 2021\n",
            " H0l@. count Sat Jan  2 08:21:52 2021\n",
            " H0l@,. count Sat Jan  2 08:21:52 2021\n",
            " H0l@, . count Sat Jan  2 08:21:52 2021\n",
            " H0l@, 3. count Sat Jan  2 08:21:52 2021\n",
            " H0l@, 3s. count Sat Jan  2 08:21:52 2021\n",
            " H0l@, 3st. count Sat Jan  2 08:21:52 2021\n",
            " H0l@, 3st0. count Sat Jan  2 08:21:52 2021\n",
            " H0l@, 3st0 . count Sat Jan  2 08:21:52 2021\n",
            " H0l@, 3st0 3. count Sat Jan  2 08:21:52 2021\n",
            " H0l@, 3st0 3s. count Sat Jan  2 08:21:52 2021\n",
            " H0l@, 3st0 3s . count Sat Jan  2 08:21:52 2021\n",
            " H0l@, 3st0 3s m. count Sat Jan  2 08:21:52 2021\n",
            " H0l@, 3st0 3s m!. count Sat Jan  2 08:21:52 2021\n",
            " H0l@, 3st0 3s m! . count Sat Jan  2 08:21:52 2021\n",
            " H0l@, 3st0 3s m! m. count Sat Jan  2 08:21:52 2021\n",
            " H0l@, 3st0 3s m! m3. count Sat Jan  2 08:21:52 2021\n",
            " H0l@, 3st0 3s m! m3n. count Sat Jan  2 08:21:52 2021\n",
            " H0l@, 3st0 3s m! m3ns. count Sat Jan  2 08:21:52 2021\n",
            " H0l@, 3st0 3s m! m3ns@. count Sat Jan  2 08:21:52 2021\n",
            "Hola, esto es mi mensaje secreto H0l@, 3st0 3s m! m3ns@j. count Sat Jan  2 08:21:52 2021\n",
            "\n",
            "\n",
            " H. count Sat Jan  2 08:21:52 2021\n",
            " H0. count Sat Jan  2 08:21:52 2021\n",
            " H0l. count Sat Jan  2 08:21:52 2021\n",
            " H0l@. count Sat Jan  2 08:21:52 2021\n",
            " H0l@,. count Sat Jan  2 08:21:52 2021\n",
            " H0l@, . count Sat Jan  2 08:21:52 2021\n",
            " H0l@, 3. count Sat Jan  2 08:21:52 2021\n",
            " H0l@, 3s. count Sat Jan  2 08:21:52 2021\n",
            " H0l@, 3st. count Sat Jan  2 08:21:52 2021\n",
            " H0l@, 3st0. count Sat Jan  2 08:21:52 2021\n",
            " H0l@, 3st0 . count Sat Jan  2 08:21:52 2021\n",
            " H0l@, 3st0 3. count Sat Jan  2 08:21:52 2021\n",
            " H0l@, 3st0 3s. count Sat Jan  2 08:21:52 2021\n",
            " H0l@, 3st0 3s . count Sat Jan  2 08:21:52 2021\n",
            " H0l@, 3st0 3s m. count Sat Jan  2 08:21:52 2021\n",
            " H0l@, 3st0 3s m!. count Sat Jan  2 08:21:52 2021\n",
            " H0l@, 3st0 3s m! . count Sat Jan  2 08:21:52 2021\n",
            " H0l@, 3st0 3s m! m. count Sat Jan  2 08:21:52 2021\n",
            " H0l@, 3st0 3s m! m3. count Sat Jan  2 08:21:52 2021\n",
            " H0l@, 3st0 3s m! m3n. count Sat Jan  2 08:21:52 2021\n",
            " H0l@, 3st0 3s m! m3ns. count Sat Jan  2 08:21:52 2021\n",
            " H0l@, 3st0 3s m! m3ns@. count Sat Jan  2 08:21:52 2021\n",
            " H0l@, 3st0 3s m! m3ns@j. count Sat Jan  2 08:21:52 2021\n",
            " H0l@, 3st0 3s m! m3ns@j3. count Sat Jan  2 08:21:52 2021\n",
            " H0l@, 3st0 3s m! m3ns@j3 . count Sat Jan  2 08:21:52 2021\n",
            " H0l@, 3st0 3s m! m3ns@j3 s. count Sat Jan  2 08:21:52 2021\n",
            " H0l@, 3st0 3s m! m3ns@j3 s3. count Sat Jan  2 08:21:52 2021\n",
            " H0l@, 3st0 3s m! m3ns@j3 s3c. count Sat Jan  2 08:21:52 2021\n",
            " H0l@, 3st0 3s m! m3ns@j3 s3cr. count Sat Jan  2 08:21:52 2021\n",
            " H0l@, 3st0 3s m! m3ns@j3 s3cr3. count Sat Jan  2 08:21:52 2021\n",
            " H0l@, 3st0 3s m! m3ns@j3 s3cr3t. count Sat Jan  2 08:21:52 2021\n",
            " H0l@, 3st0 3s m! m3ns@j3 s3cr3t0. count Sat Jan  2 08:21:52 2021 H0l@, 3st0 3s m! m3ns@j3. count Sat Jan  2 08:21:52 2021\n",
            " H0l@, 3st0 3s m! m3ns@j3 . count Sat Jan  2 08:21:52 2021\n",
            " H0l@, 3st0 3s m! m3ns@j3 s. count Sat Jan  2 08:21:52 2021\n",
            " H0l@, 3st0 3s m! m3ns@j3 s3. count Sat Jan  2 08:21:52 2021\n",
            " H0l@, 3st0 3s m! m3ns@j3 s3c. count Sat Jan  2 08:21:52 2021\n",
            " H0l@, 3st0 3s m! m3ns@j3 s3cr. count Sat Jan  2 08:21:52 2021\n",
            " H0l@, 3st0 3s m! m3ns@j3 s3cr3. count Sat Jan  2 08:21:52 2021\n",
            " H0l@, 3st0 3s m! m3ns@j3 s3cr3t. count Sat Jan  2 08:21:52 2021Hola, esto es mi mensaje secreto\n",
            "H0l@, 3st0 3s m! m3ns@j3 s3cr3t0\n",
            "\n",
            " H0l@, 3st0 3s m! m3ns@j3 s3cr3t0. count Sat Jan  2 08:21:52 2021\n",
            "H0l@, 3st0 3s m! m3ns@j3 s3cr3t0\n",
            "\n",
            "\n",
            " H. count Sat Jan  2 08:21:52 2021\n",
            " H0. count Sat Jan  2 08:21:52 2021\n",
            " H0l. count Sat Jan  2 08:21:52 2021\n",
            " H0l@. count Sat Jan  2 08:21:52 2021\n",
            " H0l@,. count Sat Jan  2 08:21:52 2021\n",
            " H0l@, . count Sat Jan  2 08:21:52 2021\n",
            " H0l@, 3. count Sat Jan  2 08:21:52 2021\n",
            " H0l@, 3s. count Sat Jan  2 08:21:52 2021\n",
            " H0l@, 3st. count Sat Jan  2 08:21:52 2021\n",
            " H0l@, 3st0. count Sat Jan  2 08:21:52 2021\n",
            " H0l@, 3st0 . count Sat Jan  2 08:21:52 2021\n",
            " H0l@, 3st0 3. count Sat Jan  2 08:21:52 2021\n",
            " H0l@, 3st0 3s. count Sat Jan  2 08:21:52 2021\n",
            " H0l@, 3st0 3s . count Sat Jan  2 08:21:52 2021\n",
            " H0l@, 3st0 3s m. count Sat Jan  2 08:21:52 2021\n",
            " H0l@, 3st0 3s m!. count Sat Jan  2 08:21:52 2021\n",
            " H0l@, 3st0 3s m! . count Sat Jan  2 08:21:52 2021\n",
            " H0l@, 3st0 3s m! m. count Sat Jan  2 08:21:52 2021\n",
            " H0l@, 3st0 3s m! m3. count Sat Jan  2 08:21:52 2021\n",
            " H0l@, 3st0 3s m! m3n. count Sat Jan  2 08:21:52 2021\n",
            " H0l@, 3st0 3s m! m3ns. count Sat Jan  2 08:21:52 2021\n",
            " H0l@, 3st0 3s m! m3ns@. count Sat Jan  2 08:21:52 2021\n",
            " H0l@, 3st0 3s m! m3ns@j. count Sat Jan  2 08:21:52 2021\n",
            " H0l@, 3st0 3s m! m3ns@j3. count Sat Jan  2 08:21:52 2021\n",
            " H0l@, 3st0 3s m! m3ns@j3 . count Sat Jan  2 08:21:52 2021\n",
            " H0l@, 3st0 3s m! m3ns@j3 s. count Sat Jan  2 08:21:52 2021\n",
            " H0l@, 3st0 3s m! m3ns@j3 s3. count Sat Jan  2 08:21:52 2021\n",
            " H0l@, 3st0 3s m! m3ns@j3 s3c. count Sat Jan  2 08:21:52 2021\n",
            " H0l@, 3st0 3s m! m3ns@j3 s3cr. count Sat Jan  2 08:21:52 2021\n",
            " H0l@, 3st0 3s m! m3ns@j3 s3cr3. count Sat Jan  2 08:21:52 2021\n",
            " H0l@, 3st0 3s m! m3ns@j3 s3cr3t. count Sat Jan  2 08:21:52 2021\n",
            " H0l@, 3st0 3s m! m3ns@j3 s3cr3t0. count Sat Jan  2 08:21:52 2021\n",
            "H0l@, 3st0 3s m! m3ns@j3 s3cr3t0\n"
          ],
          "name": "stdout"
        }
      ]
    },
    {
      "cell_type": "markdown",
      "metadata": {
        "id": "SQSjDMU1X_Ia"
      },
      "source": [
        "el MISD  consiste en realizar varias instrucciones en un solo flujo de datos uno de los pocos ejemplos sobre MISD se puede ver en la criptografia."
      ]
    },
    {
      "cell_type": "markdown",
      "metadata": {
        "id": "AiVq7B6RmsZI"
      },
      "source": [
        "**Referencias**\r\n",
        "\r\n",
        "https://wiki.python.org/moin/ParallelProcessing\r\n",
        "\r\n",
        "https://numba.readthedocs.io/en/stable/user/parallel.html\r\n",
        "\r\n",
        "https://ao.gl/how-to-measure-execution-time-in-google-colab/\r\n",
        "\r\n",
        "http://noisymime.org/blogimages/SIMD.pdf"
      ]
    }
  ]
}