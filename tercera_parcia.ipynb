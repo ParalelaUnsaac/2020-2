{
  "nbformat": 4,
  "nbformat_minor": 0,
  "metadata": {
    "colab": {
      "name": "tercera_parcia",
      "provenance": [],
      "authorship_tag": "ABX9TyNaPdwxVBITl9Dhvn0Dp2fV",
      "include_colab_link": true
    },
    "kernelspec": {
      "name": "python3",
      "display_name": "Python 3"
    }
  },
  "cells": [
    {
      "cell_type": "markdown",
      "metadata": {
        "id": "view-in-github",
        "colab_type": "text"
      },
      "source": [
        "<a href=\"https://colab.research.google.com/github/ParalelaUnsaac/2020-2/blob/main/tercera_parcia.ipynb\" target=\"_parent\"><img src=\"https://colab.research.google.com/assets/colab-badge.svg\" alt=\"Open In Colab\"/></a>"
      ]
    },
    {
      "cell_type": "code",
      "metadata": {
        "colab": {
          "base_uri": "https://localhost:8080/"
        },
        "id": "GF1ufs7z2K-E",
        "outputId": "d2f76dcc-5fea-4379-cb81-6b47df90c073"
      },
      "source": [
        "! pip install mpi4py"
      ],
      "execution_count": 1,
      "outputs": [
        {
          "output_type": "stream",
          "text": [
            "Collecting mpi4py\n",
            "\u001b[?25l  Downloading https://files.pythonhosted.org/packages/ec/8f/bbd8de5ba566dd77e408d8136e2bab7fdf2b97ce06cab830ba8b50a2f588/mpi4py-3.0.3.tar.gz (1.4MB)\n",
            "\u001b[K     |████████████████████████████████| 1.4MB 4.5MB/s \n",
            "\u001b[?25hBuilding wheels for collected packages: mpi4py\n",
            "  Building wheel for mpi4py (setup.py) ... \u001b[?25l\u001b[?25hdone\n",
            "  Created wheel for mpi4py: filename=mpi4py-3.0.3-cp37-cp37m-linux_x86_64.whl size=2065201 sha256=47e29aae6ffd605062f96b67efcb3904e2eed9b119bf79add86c700397688461\n",
            "  Stored in directory: /root/.cache/pip/wheels/18/e0/86/2b713dd512199096012ceca61429e12b960888de59818871d6\n",
            "Successfully built mpi4py\n",
            "Installing collected packages: mpi4py\n",
            "Successfully installed mpi4py-3.0.3\n"
          ],
          "name": "stdout"
        }
      ]
    },
    {
      "cell_type": "markdown",
      "metadata": {
        "id": "joNjp_ScWuRn"
      },
      "source": [
        "Pregunta **7**"
      ]
    },
    {
      "cell_type": "code",
      "metadata": {
        "colab": {
          "base_uri": "https://localhost:8080/"
        },
        "id": "MA38x0z62L11",
        "outputId": "680c448c-3624-4b03-b088-1131d13306e3"
      },
      "source": [
        "%%writefile 01masterWorker.py\n",
        "from mpi4py import MPI\n",
        "\n",
        "def main():\n",
        "    comm = MPI.COMM_WORLD\n",
        "    id = comm.Get_rank()            #number of the process running the code\n",
        "    numProcesses = comm.Get_size()  #total number of processes running\n",
        "    myHostName = MPI.Get_processor_name()  #machine name running the code\n",
        "\n",
        "    sendValue = \"'ya se acerca las vacaciones'\"\n",
        "    if id == 0:\n",
        "    #  for i in range(1,numProcesses):\n",
        "          stat = MPI.Status()\n",
        "          receivedValue = comm.recv(source=MPI.ANY_SOURCE)\n",
        "          print(\"Recibiendo mensaje {} \"\\\n",
        "          .format(receivedValue))\n",
        "    else:\n",
        "       comm.send(sendValue, dest=0)\n",
        "       print(\"Enviando mensaje {} desde procesador {} \"\\\n",
        "        .format(sendValue, id))\n",
        "\n",
        "########## Run the main function\n",
        "main()\n"
      ],
      "execution_count": 6,
      "outputs": [
        {
          "output_type": "stream",
          "text": [
            "Overwriting 01masterWorker.py\n"
          ],
          "name": "stdout"
        }
      ]
    },
    {
      "cell_type": "code",
      "metadata": {
        "colab": {
          "base_uri": "https://localhost:8080/"
        },
        "id": "qE2kv1lO2TBv",
        "outputId": "0784d0df-07e2-4b7e-c2b3-a52b62a7498f"
      },
      "source": [
        "! mpirun --allow-run-as-root -np 3 python 01masterWorker.py"
      ],
      "execution_count": 7,
      "outputs": [
        {
          "output_type": "stream",
          "text": [
            "Enviando mensaje 'ya se acerca las vacaciones' desde procesador 1 \n",
            "Enviando mensaje 'ya se acerca las vacaciones' desde procesador 2 \n",
            "Recibiendo mensaje 'ya se acerca las vacaciones' \n"
          ],
          "name": "stdout"
        }
      ]
    }
  ]
}