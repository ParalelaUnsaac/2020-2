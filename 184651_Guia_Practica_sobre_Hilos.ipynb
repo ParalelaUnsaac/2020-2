{
  "nbformat": 4,
  "nbformat_minor": 0,
  "metadata": {
    "colab": {
      "name": "184651_Guia Practica sobre Hilos",
      "provenance": [],
      "collapsed_sections": [],
      "include_colab_link": true
    },
    "kernelspec": {
      "name": "python3",
      "display_name": "Python 3"
    }
  },
  "cells": [
    {
      "cell_type": "markdown",
      "metadata": {
        "id": "view-in-github",
        "colab_type": "text"
      },
      "source": [
        "<a href=\"https://colab.research.google.com/github/ParalelaUnsaac/2020-2/blob/main/184651_Guia_Practica_sobre_Hilos.ipynb\" target=\"_parent\"><img src=\"https://colab.research.google.com/assets/colab-badge.svg\" alt=\"Open In Colab\"/></a>"
      ]
    },
    {
      "cell_type": "markdown",
      "metadata": {
        "id": "0t6Kh2cjLOYt"
      },
      "source": [
        "**PARALELISMO CON HILOS**"
      ]
    },
    {
      "cell_type": "markdown",
      "metadata": {
        "id": "KzMhMFL_HeKN"
      },
      "source": [
        "El siguiente código **identifica los hilos** utilizados. Las líneas 1-5 comentan el código siguiendo la estructura *input, procedimiento, output*"
      ]
    },
    {
      "cell_type": "markdown",
      "metadata": {
        "id": "t4ZocZQ98_is"
      },
      "source": [
        ""
      ]
    },
    {
      "cell_type": "code",
      "metadata": {
        "id": "wwkbdJ6N8_5K"
      },
      "source": [
        ""
      ],
      "execution_count": null,
      "outputs": []
    },
    {
      "cell_type": "code",
      "metadata": {
        "colab": {
          "base_uri": "https://localhost:8080/"
        },
        "id": "Zh7e5suksiyB",
        "outputId": "c7988ad6-5580-4727-d640-70aa45b80346"
      },
      "source": [
        "#input: nro de hilos\n",
        "#procedimiento:\n",
        "# - Thread_worker() obtiene el nombre de un hilo con la función currentThread().getName() \n",
        "# - cada hilo llama a Thread_worker()\n",
        "#output: Thread_worker() imprime el nombre del hilo tomado\n",
        "\n",
        "import threading\n",
        "  \n",
        "THREADS_COUNT = 3  \n",
        "\n",
        "class Threaded_worker(threading.Thread):\n",
        "    def __init__(self):\n",
        "        threading.Thread.__init__(self)\n",
        "    def run(self):\n",
        "        threadName = threading.currentThread().getName() \n",
        "        print(\"Hola, Soy el thread(hilo) %s\" % threadName)\n",
        "\n",
        "print('Inicializando %d threads...' % THREADS_COUNT)\n",
        "for i in range(THREADS_COUNT):\n",
        "    td = Threaded_worker()\n",
        "    td.start()\n"
      ],
      "execution_count": null,
      "outputs": [
        {
          "output_type": "stream",
          "text": [
            "Inicializando 3 threads...\n",
            "Hola, Soy el thread(hilo) Thread-4\n",
            "Hola, Soy el thread(hilo) Thread-5\n",
            "Hola, Soy el thread(hilo) Thread-6\n"
          ],
          "name": "stdout"
        }
      ]
    },
    {
      "cell_type": "markdown",
      "metadata": {
        "id": "a3M6kv6AJ79t"
      },
      "source": [
        "El siguiente código utiliza la libreria **os** para nombras a los hilos como procesos. Analizar el código y comentarlo siguiendo la estructura *input-procedimiento-output*"
      ]
    },
    {
      "cell_type": "code",
      "metadata": {
        "colab": {
          "base_uri": "https://localhost:8080/"
        },
        "id": "dGbgVg0YsreA",
        "outputId": "75c538ae-3220-4e78-9a37-0eb97308a7d3"
      },
      "source": [
        "import multiprocessing\n",
        "import os\n",
        "\n",
        "WORKER_NUMBER = 3\n",
        "\n",
        "def worker():\n",
        "    PID = os.getpid()\n",
        "    print (\"Hola, soy el proceso son PID %d\" % PID)\n",
        "\n",
        "print ('Inicializando %d procesos...' % WORKER_NUMBER)\n",
        "\n",
        "jobs = []\n",
        "for i in range(WORKER_NUMBER):\n",
        "    p = multiprocessing.Process(target=worker, args=())\n",
        "    jobs.append(p)\n",
        "    p.start()"
      ],
      "execution_count": null,
      "outputs": [
        {
          "output_type": "stream",
          "text": [
            "Inicializando 3 procesos...\n",
            "Hola, soy el proceso son PID 94\n",
            "Hola, soy el proceso son PID 95\n",
            "Hola, soy el proceso son PID 96\n"
          ],
          "name": "stdout"
        }
      ]
    },
    {
      "cell_type": "markdown",
      "metadata": {
        "id": "Hapqzy8DKhIH"
      },
      "source": [
        "En el siguiente código ¿Porqué el hilo 3 no se imprime?"
      ]
    },
    {
      "cell_type": "code",
      "metadata": {
        "colab": {
          "base_uri": "https://localhost:8080/"
        },
        "id": "JcG3A2DJD6lr",
        "outputId": "1090e6cc-be7d-4871-f397-83214b82b998"
      },
      "source": [
        "# Input = Numero \n",
        "#Prosedimiento \n",
        "# - compara la funcion \n",
        "# - va escribiendo los numeros menores al numero dado\n",
        "# - Actualizarse suma de uno en uno. \n",
        "# Output =lo va mostrandoLos 3 hilos hasta que sea que cada hilo sea el menor maximo\n",
        "import threading\n",
        "def cuenta(n,name):\n",
        "    count=n\n",
        "    while count<4:\n",
        "      print(\"%s in count %s\" % (name, count))\n",
        "      count+=1\n",
        "\n",
        "t = threading.Thread(target=cuenta, args=(1, 'thread1'))\n",
        "t2 = threading.Thread(target=cuenta, args=(2, 'thread2'))\n",
        "t3 = threading.Thread(target=cuenta, args=(3, 'thread3'))\n",
        "\n",
        "t.start()\n",
        "t2.start()\n",
        "t3.start()\n"
      ],
      "execution_count": null,
      "outputs": [
        {
          "output_type": "stream",
          "text": [
            "thread1 in count 1\n",
            "thread1 in count 2\n",
            "thread1 in count 3\n",
            "thread2 in count 2\n",
            "thread2 in count 3\n",
            "thread3 in count 3\n"
          ],
          "name": "stdout"
        }
      ]
    },
    {
      "cell_type": "markdown",
      "metadata": {
        "id": "N96cWNTgV8tb"
      },
      "source": [
        "A continuación vamos a usar la **función time** para verificar el tiempo de paralelización. El codigo a continuación imprime el inició y fin luego de x segundos"
      ]
    },
    {
      "cell_type": "code",
      "metadata": {
        "colab": {
          "base_uri": "https://localhost:8080/"
        },
        "id": "R-NkyeQpmDCG",
        "outputId": "a4f4d78f-77c7-4381-cc0e-c62394bb5b3f"
      },
      "source": [
        "import time\n",
        "\n",
        "print (\"Start : %s\" % time.ctime())\n",
        "time.sleep(5)\n",
        "print (\"End : %s\" % time.ctime())\n"
      ],
      "execution_count": null,
      "outputs": [
        {
          "output_type": "stream",
          "text": [
            "Start : Wed Dec  2 15:41:51 2020\n",
            "End : Wed Dec  2 15:41:56 2020\n"
          ],
          "name": "stdout"
        }
      ]
    },
    {
      "cell_type": "markdown",
      "metadata": {
        "id": "sOB4G5hHW8UQ"
      },
      "source": [
        "El siguiente ejemplo da un espacio entre los hilos, lo cual se verifica con la función time. ¿Existe paralelismo aqui? explicar"
      ]
    },
    {
      "cell_type": "code",
      "metadata": {
        "colab": {
          "base_uri": "https://localhost:8080/"
        },
        "id": "52oIOIKwJKOC",
        "outputId": "fcad8f20-3319-43db-b11e-80c8e25a28b7"
      },
      "source": [
        "import threading\n",
        "import time\n",
        "\n",
        "def print_time(name):\n",
        "    count = 0   \n",
        "    print(\"inicio %s: %s. count %s\" % ( name, time.ctime(), count))\n",
        "    while count < 4:\n",
        "        count+=1\n",
        "        print(\"%s: %s. count %s\" % ( name, time.ctime(time.time()), count))\n",
        "\n",
        "        \n",
        "t1 = threading.Thread(target=print_time, args=(\"Thread-1\", ) )\n",
        "t2 = threading.Thread(target=print_time, args=(\"Thread-2\", ) )\n",
        "\n",
        "t1.start()\n",
        "time.sleep(2)\n",
        "t2.start()"
      ],
      "execution_count": null,
      "outputs": [
        {
          "output_type": "stream",
          "text": [
            "inicio Thread-1: Wed Dec  2 15:48:40 2020. count 0\n",
            "Thread-1: Wed Dec  2 15:48:40 2020. count 1\n",
            "Thread-1: Wed Dec  2 15:48:40 2020. count 2\n",
            "Thread-1: Wed Dec  2 15:48:40 2020. count 3\n",
            "Thread-1: Wed Dec  2 15:48:40 2020. count 4\n",
            "inicio Thread-2: Wed Dec  2 15:48:42 2020. count 0\n",
            "Thread-2: Wed Dec  2 15:48:42 2020. count 1\n",
            "Thread-2: Wed Dec  2 15:48:42 2020. count 2\n",
            "Thread-2: Wed Dec  2 15:48:42 2020. count 3\n",
            "Thread-2: Wed Dec  2 15:48:42 2020. count 4\n"
          ],
          "name": "stdout"
        }
      ]
    },
    {
      "cell_type": "markdown",
      "metadata": {
        "id": "XuS0iTU2V6kV"
      },
      "source": [
        "**Problema propuesto:** \n",
        "Ejecute varias veces el código a continuación y explique al menos 2 resultados diferentes"
      ]
    },
    {
      "cell_type": "markdown",
      "metadata": {
        "id": "4so2H73hyFmA"
      },
      "source": [
        "Prueba 1\n"
      ]
    },
    {
      "cell_type": "code",
      "metadata": {
        "colab": {
          "base_uri": "https://localhost:8080/"
        },
        "id": "O-JAYILAMvYF",
        "outputId": "91b637a5-2bed-4746-d2a4-a23dae3952ac"
      },
      "source": [
        "# Input: VALOR DEL COUNT \n",
        "# Procedimiento:\n",
        "#  - print_time() Metodo que muestra el hilo para un valor de count en un momento dado \n",
        "#    - En la instruccion repetiva tenemos una condion  con la que puede cambiar el count\n",
        "#      - time.sleep() funcion de dormir el programa \n",
        "# Output: Imprime el nombre del hilo ,el tiempo cuando este tiene un valor en count y el valor de count \n",
        "import threading\n",
        "import time\n",
        "\n",
        "def print_time(name, n):\n",
        "    count = 0   \n",
        "    print(\"Para el Hilo: %s, en el momento: %s, su valor de count es: %s\" % ( name, time.ctime(), count))\n",
        "    while count < 20:\n",
        "        time.sleep(4)\n",
        "        count= count +1\n",
        "        print(\"%s: %s. count %s\" % ( name, time.ctime(), count))\n",
        "\n",
        "        \n",
        "t1 = threading.Thread(target=print_time, args=(\"Thread-1\", 4, ) )\n",
        "t2 = threading.Thread(target=print_time, args=(\"Thread-2\", 4, ) )\n",
        "\n",
        "t1.start()\n",
        "t2.start()"
      ],
      "execution_count": null,
      "outputs": [
        {
          "output_type": "stream",
          "text": [
            "Para el Hilo: Thread-1, en el momento: Wed Dec  2 18:27:37 2020, su valor de count es: 0\n",
            "Para el Hilo: Thread-2, en el momento: Wed Dec  2 18:27:37 2020, su valor de count es: 0\n"
          ],
          "name": "stdout"
        }
      ]
    },
    {
      "cell_type": "markdown",
      "metadata": {
        "id": "WVx-C03iyiNP"
      },
      "source": [
        "Prueba 2"
      ]
    },
    {
      "cell_type": "code",
      "metadata": {
        "colab": {
          "base_uri": "https://localhost:8080/"
        },
        "id": "XUAAioJyycIE",
        "outputId": "31afc38f-9ace-4352-fcd5-db4464c724bb"
      },
      "source": [
        "import threading\n",
        "import time\n",
        "\n",
        "def print_time(name, n):\n",
        "    count = 0   \n",
        "    print(\"Para el Hilo: %s, en el momento: %s, su valor de count es: %s\" % ( name, time.ctime(), count))\n",
        "    while count < 20:\n",
        "        time.sleep(0)\n",
        "        count= count +1\n",
        "        print(\"%s: %s. count %s\" % ( name, time.ctime(), count))\n",
        "\n",
        "        \n",
        "t1 = threading.Thread(target=print_time, args=(\"Thread-1\", 4, ) )\n",
        "t2 = threading.Thread(target=print_time, args=(\"Thread-2\", 4, ) )\n",
        "\n",
        "t1.start()\n",
        "t2.start()"
      ],
      "execution_count": null,
      "outputs": [
        {
          "output_type": "stream",
          "text": [
            "Para el Hilo: Thread-1, en el momento: Wed Dec  2 18:55:41 2020, su valor de count es: 0\n",
            "Thread-1: Wed Dec  2 18:55:41 2020. count 1\n",
            "Thread-1: Wed Dec  2 18:55:41 2020. count 2\n",
            "Thread-1: Wed Dec  2 18:55:41 2020. count 3\n",
            "Thread-1: Wed Dec  2 18:55:41 2020. count 4\n",
            "Thread-1: Wed Dec  2 18:55:41 2020. count 5\n",
            "Thread-1: Wed Dec  2 18:55:41 2020. count 6\n",
            "Thread-1: Wed Dec  2 18:55:41 2020. count 7\n",
            "Thread-1: Wed Dec  2 18:55:41 2020. count 8\n",
            "Thread-1: Wed Dec  2 18:55:41 2020. count 9\n",
            "Thread-1: Wed Dec  2 18:55:41 2020. count 10\n",
            "Thread-1: Wed Dec  2 18:55:41 2020. count 11\n",
            "Thread-1: Wed Dec  2 18:55:41 2020. count 12\n",
            "Thread-1: Wed Dec  2 18:55:41 2020. count 13\n",
            "Thread-1: Wed Dec  2 18:55:41 2020. count 14\n",
            "Thread-1: Wed Dec  2 18:55:41 2020. count 15\n",
            "Thread-1: Wed Dec  2 18:55:41 2020. count 16\n",
            "Thread-1: Wed Dec  2 18:55:41 2020. count 17\n",
            "Thread-1: Wed Dec  2 18:55:41 2020. count 18\n",
            "Thread-1: Wed Dec  2 18:55:41 2020. count 19\n",
            "Thread-1: Wed Dec  2 18:55:41 2020. count 20\n",
            "Para el Hilo: Thread-2, en el momento: Wed Dec  2 18:55:41 2020, su valor de count es: 0\n",
            "Thread-2: Wed Dec  2 18:55:41 2020. count 1\n",
            "Thread-2: Wed Dec  2 18:55:41 2020. count 2\n",
            "Thread-2: Wed Dec  2 18:55:41 2020. count 3\n",
            "Thread-2: Wed Dec  2 18:55:41 2020. count 4\n",
            "Thread-2: Wed Dec  2 18:55:41 2020. count 5\n",
            "Thread-2: Wed Dec  2 18:55:41 2020. count 6\n",
            "Thread-2: Wed Dec  2 18:55:41 2020. count 7\n",
            "Thread-2: Wed Dec  2 18:55:41 2020. count 8\n",
            "Thread-2: Wed Dec  2 18:55:41 2020. count 9\n",
            "Thread-2: Wed Dec  2 18:55:41 2020. count 10\n",
            "Thread-2: Wed Dec  2 18:55:41 2020. count 11\n",
            "Thread-2: Wed Dec  2 18:55:41 2020. count 12\n",
            "Thread-2: Wed Dec  2 18:55:41 2020. count 13\n",
            "Thread-2: Wed Dec  2 18:55:41 2020. count 14\n",
            "Thread-2: Wed Dec  2 18:55:41 2020. count 15\n",
            "Thread-2: Wed Dec  2 18:55:41 2020. count 16\n",
            "Thread-2: Wed Dec  2 18:55:41 2020. count 17\n",
            "Thread-2: Wed Dec  2 18:55:41 2020. count 18\n",
            "Thread-2: Wed Dec  2 18:55:41 2020. count 19\n",
            "Thread-2: Wed Dec  2 18:55:41 2020. count 20\n"
          ],
          "name": "stdout"
        }
      ]
    },
    {
      "cell_type": "markdown",
      "metadata": {
        "id": "DIFRnSZa0u0r"
      },
      "source": [
        "Prueba 3"
      ]
    },
    {
      "cell_type": "code",
      "metadata": {
        "colab": {
          "base_uri": "https://localhost:8080/"
        },
        "id": "5DPGRRcy0x8v",
        "outputId": "ec35c58b-b812-49e7-afb6-a8856c033cf3"
      },
      "source": [
        "import threading\n",
        "import time\n",
        "\n",
        "def print_time(name, n):\n",
        "    count = 0   \n",
        "    print(\"Para el Hilo: %s, en el momento: %s, su valor de count es: %s\" % ( name, time.ctime(), count))\n",
        "    while count < 20:\n",
        "        time.sleep(0.05)\n",
        "        count= count +1\n",
        "        print(\"%s: %s. count %s\" % ( name, time.ctime(), count))\n",
        "\n",
        "        \n",
        "t1 = threading.Thread(target=print_time, args=(\"Thread-1\", 4, ) )\n",
        "t2 = threading.Thread(target=print_time, args=(\"Thread-2\", 4, ) )\n",
        "\n",
        "t1.start()\n",
        "t2.start()"
      ],
      "execution_count": null,
      "outputs": [
        {
          "output_type": "stream",
          "text": [
            "Para el Hilo: Thread-1, en el momento: Wed Dec  2 19:04:18 2020, su valor de count es: 0\n",
            "Para el Hilo: Thread-2, en el momento: Wed Dec  2 19:04:18 2020, su valor de count es: 0\n",
            "Thread-1: Wed Dec  2 19:04:18 2020. count 1\n",
            "Thread-2: Wed Dec  2 19:04:18 2020. count 1\n",
            "Thread-1: Wed Dec  2 19:04:18 2020. count 2\n",
            "Thread-2: Wed Dec  2 19:04:18 2020. count 2\n",
            "Thread-1: Wed Dec  2 19:04:18 2020. count 3\n",
            "Thread-2: Wed Dec  2 19:04:18 2020. count 3\n",
            "Thread-1: Wed Dec  2 19:04:18 2020. count 4\n",
            "Thread-2: Wed Dec  2 19:04:18 2020. count 4\n"
          ],
          "name": "stdout"
        }
      ]
    },
    {
      "cell_type": "markdown",
      "metadata": {
        "id": "3-3Nl7FMy8fJ"
      },
      "source": [
        "EXPLICACIÓN\n",
        "\n",
        "Al ejecutar la prueba 1 podemos darnos cuenta que el programa solo nos imprime\n",
        "un solo valor de count en un derminado tiempo tanto para el hilo 1 como el hilo 2.\n",
        "\n",
        "Al ejecutar la prueba 2 se observa  que al modificar el \"time.sleep\" el programa es corrido com lo que el count va cambiando de uno en uno mientras el tiempo es el mismo para los hilos.\n",
        "\n",
        "De las pruebas 1 y 2 se puede afirmar que el existe paralelismo  por lo que el hilo 1 y 2 van compitiendo, esto es mas visible en la prueva 3 donde aún nosea ordenado los hilos, ademas como son iguales instruciones para ambos hilos se doemoran el mismo tiempo\n"
      ]
    },
    {
      "cell_type": "markdown",
      "metadata": {
        "id": "7WK60CtWZzXA"
      },
      "source": [
        "Fuentes: \n",
        "http://codigo-python.blogspot.com/2016/11/hilos-y-procesos-i.html\n",
        "\n",
        "https://www.tutorialspoint.com/python3/time_sleep.htm\n",
        "\n",
        "https://docs.python.org/es/3/library/threading.html#thread-objects\n",
        "\n",
        "https://en.wikipedia.org/wiki/Flynn%27s_taxonomy\n",
        "\n",
        "https://github.com/antonioam82/ejercicios-python"
      ]
    }
  ]
}