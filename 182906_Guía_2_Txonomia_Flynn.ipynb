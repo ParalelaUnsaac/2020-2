{
  "nbformat": 4,
  "nbformat_minor": 0,
  "metadata": {
    "colab": {
      "name": " 182906 - Guía 2 - Txonomia Flynn.ipynb",
      "provenance": [],
      "include_colab_link": true
    },
    "kernelspec": {
      "name": "python3",
      "display_name": "Python 3"
    }
  },
  "cells": [
    {
      "cell_type": "markdown",
      "metadata": {
        "id": "view-in-github",
        "colab_type": "text"
      },
      "source": [
        "<a href=\"https://colab.research.google.com/github/ParalelaUnsaac/2020-2/blob/main/182906_Gu%C3%ADa_2_Txonomia_Flynn.ipynb\" target=\"_parent\"><img src=\"https://colab.research.google.com/assets/colab-badge.svg\" alt=\"Open In Colab\"/></a>"
      ]
    },
    {
      "cell_type": "markdown",
      "metadata": {
        "id": "xCCs96_aEFrD"
      },
      "source": [
        "El siguiente código va a permitir que todo código ejecutado en el colab pueda ser medido"
      ]
    },
    {
      "cell_type": "code",
      "metadata": {
        "colab": {
          "base_uri": "https://localhost:8080/"
        },
        "id": "91EQIkYNzfIU",
        "outputId": "e241ab29-afa9-46f7-b881-dc126229aca5"
      },
      "source": [
        "!pip install ipython-autotime\r\n",
        "!pip install numpy\r\n",
        "!pip install Pyro4\r\n",
        "\r\n",
        "%load_ext autotime"
      ],
      "execution_count": null,
      "outputs": [
        {
          "output_type": "stream",
          "text": [
            "Collecting ipython-autotime\n",
            "  Downloading https://files.pythonhosted.org/packages/3f/58/a4a65efcce5c81a67b6893ade862736de355a3a718af5533d30c991831ce/ipython_autotime-0.2.0-py2.py3-none-any.whl\n",
            "Requirement already satisfied: ipython in /usr/local/lib/python3.6/dist-packages (from ipython-autotime) (5.5.0)\n",
            "Requirement already satisfied: pickleshare in /usr/local/lib/python3.6/dist-packages (from ipython->ipython-autotime) (0.7.5)\n",
            "Requirement already satisfied: pexpect; sys_platform != \"win32\" in /usr/local/lib/python3.6/dist-packages (from ipython->ipython-autotime) (4.8.0)\n",
            "Requirement already satisfied: traitlets>=4.2 in /usr/local/lib/python3.6/dist-packages (from ipython->ipython-autotime) (4.3.3)\n",
            "Requirement already satisfied: setuptools>=18.5 in /usr/local/lib/python3.6/dist-packages (from ipython->ipython-autotime) (50.3.2)\n",
            "Requirement already satisfied: decorator in /usr/local/lib/python3.6/dist-packages (from ipython->ipython-autotime) (4.4.2)\n",
            "Requirement already satisfied: prompt-toolkit<2.0.0,>=1.0.4 in /usr/local/lib/python3.6/dist-packages (from ipython->ipython-autotime) (1.0.18)\n",
            "Requirement already satisfied: pygments in /usr/local/lib/python3.6/dist-packages (from ipython->ipython-autotime) (2.6.1)\n",
            "Requirement already satisfied: simplegeneric>0.8 in /usr/local/lib/python3.6/dist-packages (from ipython->ipython-autotime) (0.8.1)\n",
            "Requirement already satisfied: ptyprocess>=0.5 in /usr/local/lib/python3.6/dist-packages (from pexpect; sys_platform != \"win32\"->ipython->ipython-autotime) (0.6.0)\n",
            "Requirement already satisfied: six in /usr/local/lib/python3.6/dist-packages (from traitlets>=4.2->ipython->ipython-autotime) (1.15.0)\n",
            "Requirement already satisfied: ipython-genutils in /usr/local/lib/python3.6/dist-packages (from traitlets>=4.2->ipython->ipython-autotime) (0.2.0)\n",
            "Requirement already satisfied: wcwidth in /usr/local/lib/python3.6/dist-packages (from prompt-toolkit<2.0.0,>=1.0.4->ipython->ipython-autotime) (0.2.5)\n",
            "Installing collected packages: ipython-autotime\n",
            "Successfully installed ipython-autotime-0.2.0\n",
            "Requirement already satisfied: numpy in /usr/local/lib/python3.6/dist-packages (1.19.4)\n",
            "Collecting Pyro4\n",
            "\u001b[?25l  Downloading https://files.pythonhosted.org/packages/c3/3c/422f6f761076c5679215178a00eca9a68aacfbbc88152c85b15928b60e25/Pyro4-4.80-py2.py3-none-any.whl (89kB)\n",
            "\u001b[K     |████████████████████████████████| 92kB 3.2MB/s \n",
            "\u001b[?25hCollecting serpent>=1.27; python_version >= \"3.2\"\n",
            "  Downloading https://files.pythonhosted.org/packages/b4/a1/24871492bfc34ea18aee3bf38e0cee22d8c11d8d5e765ccc921103140747/serpent-1.30.2-py3-none-any.whl\n",
            "Installing collected packages: serpent, Pyro4\n",
            "Successfully installed Pyro4-4.80 serpent-1.30.2\n",
            "time: 1.54 ms\n"
          ],
          "name": "stdout"
        }
      ]
    },
    {
      "cell_type": "code",
      "metadata": {
        "colab": {
          "base_uri": "https://localhost:8080/"
        },
        "id": "EfRNKumpFJaN",
        "outputId": "94e01135-6b9e-400b-9f4f-3212cc532d7e"
      },
      "source": [
        "print(sum(range(10)))"
      ],
      "execution_count": null,
      "outputs": [
        {
          "output_type": "stream",
          "text": [
            "45\n",
            "time: 830 µs\n"
          ],
          "name": "stdout"
        }
      ]
    },
    {
      "cell_type": "markdown",
      "metadata": {
        "id": "u1gd4K6TFdSn"
      },
      "source": [
        "Pregunta #1: Que porción de 1 segundo es el valor impreso?"
      ]
    },
    {
      "cell_type": "code",
      "metadata": {
        "id": "MBfx_eTCBy2B"
      },
      "source": [
        "time = 465 ms\r\n",
        "La porción de segundo impreso son los milisegundos.\r\n",
        "\r\n",
        "Que es 10^(-6) en notación *científica*"
      ],
      "execution_count": null,
      "outputs": []
    },
    {
      "cell_type": "markdown",
      "metadata": {
        "id": "_Hl8sQD1HMKz"
      },
      "source": [
        "\r\n",
        "---\r\n",
        "\r\n"
      ]
    },
    {
      "cell_type": "markdown",
      "metadata": {
        "id": "06N5iGs0F-KK"
      },
      "source": [
        "A seguir, tenemos una librería de Python llamado **numba** que realiza paralelización automatica. Asi, se puede verificar que al usar prange() se tiene mejor tiempo de ejecución que al usar range()"
      ]
    },
    {
      "cell_type": "code",
      "metadata": {
        "colab": {
          "base_uri": "https://localhost:8080/"
        },
        "id": "4pfRIJ1ajxKD",
        "outputId": "b351bd14-4a3e-4735-f240-d5acaea0aa32"
      },
      "source": [
        "#Input\r\n",
        "#Procedimiento\r\n",
        "#Output\r\n",
        "\r\n",
        "#%load_ext autotime\r\n",
        "\r\n",
        "from numba import njit, prange\r\n",
        "import numpy as np\r\n",
        "\r\n",
        "A = np.arange(5, 10) #14000000\r\n",
        "@njit(parallel=True)\r\n",
        "def prange_test(A):\r\n",
        "    s = 0\r\n",
        "    # Without \"parallel=True\" in the jit-decorator\r\n",
        "    # the prange statement is equivalent to range\r\n",
        "    for i in prange(A.shape[0]):\r\n",
        "        s += A[i]\r\n",
        "    return s\r\n",
        "\r\n",
        "print(prange_test(A))"
      ],
      "execution_count": null,
      "outputs": [
        {
          "output_type": "stream",
          "text": [
            "35\n",
            "time: 390 ms\n"
          ],
          "name": "stdout"
        }
      ]
    },
    {
      "cell_type": "code",
      "metadata": {
        "colab": {
          "base_uri": "https://localhost:8080/"
        },
        "id": "pmy4BS66k4TB",
        "outputId": "91c452c7-a96c-4e50-d0b3-53c41f98ab8f"
      },
      "source": [
        "from numba import njit, prange\r\n",
        "\r\n",
        "A = np.arange(5, 10)\r\n",
        "#@njit(parallel=True)\r\n",
        "def prange_test(A):\r\n",
        "    s = 0\r\n",
        "    # Without \"parallel=True\" in the jit-decorator\r\n",
        "    # the prange statement is equivalent to range\r\n",
        "    for i in range(A.shape[0]):\r\n",
        "        s += A[i]\r\n",
        "    return s\r\n",
        "\r\n",
        "print(prange_test(A))\r\n",
        "\r\n"
      ],
      "execution_count": null,
      "outputs": [
        {
          "output_type": "stream",
          "text": [
            "35\n",
            "time: 3.37 ms\n"
          ],
          "name": "stdout"
        }
      ]
    },
    {
      "cell_type": "markdown",
      "metadata": {
        "id": "QAl9s67VKzEh"
      },
      "source": [
        "Pregunta #2: identifique otros valores en A, de manera que, serializando, tengamos mejor resultado que paralelizando"
      ]
    },
    {
      "cell_type": "markdown",
      "metadata": {
        "id": "ExyKMGJNCnBV"
      },
      "source": [
        "> np.arange(5 - 10)\r\n",
        "\r\n",
        "          Paralelizando: 390 ms \r\n",
        "          Sin paralelización: 3.37 ms\r\n",
        "\r\n",
        "---\r\n",
        "\r\n",
        "> np.arange(5 - 200)\r\n",
        "\r\n",
        "          Paralelizando: 439 ms  \r\n",
        "          Sin paralelización: 7.42 ms\r\n",
        "\r\n",
        "---\r\n",
        "\r\n",
        "> np.arange(5 - 14000000)\r\n",
        "\r\n",
        "          Paralelizando: 388  ms \r\n",
        "          Sin paralelización: 3.3 s\r\n",
        "\r\n",
        "---\r\n",
        "\r\n",
        "\r\n",
        "**Se puede observar que si ejecutamos con  paralelización, sea cualquiera el rango, el tiempo no va a diferir mucho en todos los casos.**\r\n",
        "\r\n",
        "**A diferencia de lo que ocurre cuando ejecutamos sin paralelización, se puede observar un cambio grande en los tiempos de ejecución cuando le damos rangos diferentes.**\r\n",
        "\r\n"
      ]
    },
    {
      "cell_type": "markdown",
      "metadata": {
        "id": "vcEN_PS4LOTq"
      },
      "source": [
        "La Taxonomia de Flynn define 4 tipos de arquitecturas para computación paralela: SISD, SIMD, MISD, y MIMD. \r\n",
        "\r\n",
        "\r\n",
        "---\r\n",
        "\r\n",
        "\r\n",
        "Pregunta #3 : El ultimo código ejecutado es de tipo?"
      ]
    },
    {
      "cell_type": "markdown",
      "metadata": {
        "id": "k9YIhSLfFEZQ"
      },
      "source": [
        "SSID de manera secuencial"
      ]
    },
    {
      "cell_type": "markdown",
      "metadata": {
        "id": "Hz_y6QaKM_LQ"
      },
      "source": [
        "\r\n",
        "\r\n",
        "---\r\n",
        "\r\n"
      ]
    },
    {
      "cell_type": "markdown",
      "metadata": {
        "id": "rbyAXmF5NDlv"
      },
      "source": [
        "Pregunta #4: el siguiente código paralelo es de tipo? Comentar el código para justificar su respuesta"
      ]
    },
    {
      "cell_type": "markdown",
      "metadata": {
        "id": "vd9kAvQ-J8IM"
      },
      "source": [
        "- Los dos hilos ejecutan la misma instrucción (en este caso print_time)\r\n",
        "\r\n",
        "- Cada hilo procesa datos distintos\r\n",
        "\r\n",
        "- Su ejecución es simultánea\r\n",
        "\r\n",
        "Por lo tanto es de tipo SIMD."
      ]
    },
    {
      "cell_type": "code",
      "metadata": {
        "colab": {
          "base_uri": "https://localhost:8080/"
        },
        "id": "J4GKbs1mLeVp",
        "outputId": "044a0eb3-4132-4834-d341-28f4c3377e6d"
      },
      "source": [
        "import threading\r\n",
        "import time\r\n",
        "\r\n",
        "\r\n",
        "def print_time(name, n): \r\n",
        "    count = 0   \r\n",
        "    print(\"Para el Hilo: %s, en el momento: %s, su valor de count es: %s\" % ( name, time.ctime(), count))\r\n",
        "    while count < 5:\r\n",
        "        time.sleep(n) #bloque de hilo 0 segundos, entoces se tiene una ejecución del hilo sin interrupciones\r\n",
        "        count += 1\r\n",
        "        print(\"%s: %s. count %s\" % ( name, time.ctime(), count))\r\n",
        "\r\n",
        "#Creación de dos hilos que ejecutan la función print_time        \r\n",
        "t1 = threading.Thread(target=print_time, args=(\"Thread-1\", 0, ) )\r\n",
        "t2 = threading.Thread(target=print_time, args=(\"Thread-2\", 0, ) )\r\n",
        "\r\n",
        "#Inicialización de los hilos\r\n",
        "t1.start()\r\n",
        "t2.start()"
      ],
      "execution_count": null,
      "outputs": [
        {
          "output_type": "stream",
          "text": [
            "Para el Hilo: Thread-1, en el momento: Wed Dec  9 15:31:22 2020, su valor de count es: 0\n",
            "Thread-1: Wed Dec  9 15:31:22 2020. count 1\n",
            "Thread-1: Wed Dec  9 15:31:22 2020. count 2\n",
            "Thread-1: Wed Dec  9 15:31:22 2020. count 3\n",
            "Thread-1: Wed Dec  9 15:31:22 2020. count 4\n",
            "Thread-1: Wed Dec  9 15:31:22 2020. count 5\n",
            "Para el Hilo: Thread-2, en el momento: Wed Dec  9 15:31:22 2020, su valor de count es: 0time: 12.4 ms\n",
            "\n",
            "Thread-2: Wed Dec  9 15:31:22 2020. count 1\n",
            "Thread-2: Wed Dec  9 15:31:22 2020. count 2\n",
            "Thread-2: Wed Dec  9 15:31:22 2020. count 3\n",
            "Thread-2: Wed Dec  9 15:31:22 2020. count 4\n",
            "Thread-2: Wed Dec  9 15:31:22 2020. count 5\n"
          ],
          "name": "stdout"
        }
      ]
    },
    {
      "cell_type": "markdown",
      "metadata": {
        "id": "kj5mNpdml0F4"
      },
      "source": [
        "\r\n",
        "\r\n",
        "---\r\n",
        "\r\n"
      ]
    },
    {
      "cell_type": "markdown",
      "metadata": {
        "id": "BjPhiBi7k9CH"
      },
      "source": [
        "Una computadora paralela tipo MIMD es utilizado más en la computación distribuida, ejm. Clusters. El siguiente código en python desktop muestra tal funcionamiento"
      ]
    },
    {
      "cell_type": "code",
      "metadata": {
        "id": "3BKSrHpylh-J"
      },
      "source": [
        "#greeting-server.py\r\n",
        "import Pyro4\r\n",
        "\r\n",
        "@Pyro4.expose #Métodos, clases y propiedades disponibles de forma remota\r\n",
        "class GreetingMaker(object):\r\n",
        "    def get_fortune(self, name):\r\n",
        "        return \"Hello, {0}. Here is your fortune message:\\n\" \\\r\n",
        "               \"Behold the warranty -- the bold print giveth and the fine print taketh away.\".format(name)\r\n",
        "\r\n",
        "daemon = Pyro4.Daemon()                # make a Pyro daemon\r\n",
        "uri = daemon.register(GreetingMaker)   # register the greeting maker as a Pyro object\r\n",
        "\r\n",
        "print(\"Ready. Object uri =\", uri)      # print the uri so we can use it in the client later\r\n",
        "daemon.requestLoop()                   # start the event loop of the server to wait for calls"
      ],
      "execution_count": null,
      "outputs": []
    },
    {
      "cell_type": "code",
      "metadata": {
        "id": "UrqRam3ulrvh"
      },
      "source": [
        "#greeting-client.py\r\n",
        "import Pyro4\r\n",
        "\r\n",
        "uri = input(\"What is the Pyro uri of the greeting object? \").strip()\r\n",
        "name = input(\"What is your name? \").strip()\r\n",
        "\r\n",
        "greeting_maker = Pyro4.Proxy(uri)         # get a Pyro proxy to the greeting object\r\n",
        "print(greeting_maker.get_fortune(name))   # call method normally"
      ],
      "execution_count": null,
      "outputs": []
    },
    {
      "cell_type": "markdown",
      "metadata": {
        "id": "h177eMCuqEJq"
      },
      "source": [
        "Pregunta #5: Explique que hace este código de tipo MIMD"
      ]
    },
    {
      "cell_type": "markdown",
      "metadata": {
        "id": "KFaWpW7sPhf-"
      },
      "source": [
        "En el primer código que es nuestro servidor, se crea un servicio de saludo que tiene como parámetro un nombre.\r\n",
        "\r\n",
        "daemon es nuestro objeto daemon, lo creamos y luego registramos el objeto con deamon para convertilo en un objeto Pyro, después ingresamos el ciclo de solicitud de nuestro daemon.\r\n",
        "\r\n",
        "El segundo código es el código del cliente que solicita el uri. Y si el uri es correcto Pyro va a crear una instacia de la clase y va a usar ese único objeto para manejar las llamadas a ese método.\r\n",
        "\r\n",
        "Y así otro cliente puede estar accediendo en ese mismo instante al servidor."
      ]
    },
    {
      "cell_type": "markdown",
      "metadata": {
        "id": "xPk19-hIqNiY"
      },
      "source": [
        "\r\n",
        "\r\n",
        "---\r\n",
        "\r\n"
      ]
    },
    {
      "cell_type": "markdown",
      "metadata": {
        "id": "XPRR57WRNb3M"
      },
      "source": [
        "Ejercicio Propuesto: Crear un ejemplo que muestre una computación paralela de tipo MISD"
      ]
    },
    {
      "cell_type": "code",
      "metadata": {
        "id": "F_n7n-qbQvC-"
      },
      "source": [
        "import threading\r\n",
        "import time\r\n",
        "\r\n",
        "count = 0 #Variable global\r\n",
        "\r\n",
        "def print_Hello():\r\n",
        "    global count #indicar que se va a usar la variable global\r\n",
        "    while count < 5:\r\n",
        "        time.sleep(2) #bloque de hilo 2 segundos\r\n",
        "        print(\"count = %s -> Hello -> %s\\n\" % (count, time.ctime(), ))\r\n",
        "        count += 1\r\n",
        "\r\n",
        "def print_Hi():\r\n",
        "    global count #indicar que se va a usar la variable global\r\n",
        "    while count < 5:\r\n",
        "        time.sleep(2) #bloque de hilo 2 segundos\r\n",
        "        print(\"count = %s -> Hi -> %s\\n\" % (count, time.ctime(), ))\r\n",
        "        count += 1\r\n",
        "        \r\n",
        "\r\n",
        "#Creación de dos hilos que ejecutan diferentes instrucciones\r\n",
        "t1 = threading.Thread(target = print_Hello)\r\n",
        "t2 = threading.Thread(target = print_Hi)\r\n",
        "\r\n",
        "#Inicialización de los hilos\r\n",
        "t1.start()\r\n",
        "t2.start()"
      ],
      "execution_count": null,
      "outputs": []
    },
    {
      "cell_type": "markdown",
      "metadata": {
        "id": "FYUeOS1qs5Fr"
      },
      "source": [
        "Este ejemplo muestra una computación paralela de tipo MISD por los siguientes puntos:\r\n",
        "\r\n",
        "\r\n",
        "*   Cada hilo ejecuta una instrucción distinta\r\n",
        "\r\n",
        "        El hilo 1 ejecuta la función print_Hello() y el hilo 2 ejecuta la función print_Hi()\r\n",
        "\r\n",
        "*   Cada hilo procesa el mismo dato\r\n",
        "\r\n",
        "        En este caso comparten una variable global que es count\r\n",
        "\r\n",
        "*   Paralelismo a nivel de datos\r\n",
        "          La variable global se distribuye en 2 procesos distintos que se ejecutan paralelamente.\r\n",
        "\r\n",
        "Ejecución en IDLE Python 3.7\r\n",
        "\r\n",
        "En esta ejecución se puede observar que el valor de ***count*** es compartido entre los dos hilos y cada 2 segundos el valor de ***count*** se incrementa en 2.\r\n",
        "\r\n",
        "![image.png](data:image/png;base64,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)"
      ]
    },
    {
      "cell_type": "markdown",
      "metadata": {
        "id": "AiVq7B6RmsZI"
      },
      "source": [
        "**Referencias**\r\n",
        "\r\n",
        "https://wiki.python.org/moin/ParallelProcessing\r\n",
        "\r\n",
        "https://numba.readthedocs.io/en/stable/user/parallel.html\r\n",
        "\r\n",
        "https://ao.gl/how-to-measure-execution-time-in-google-colab/\r\n",
        "\r\n",
        "http://noisymime.org/blogimages/SIMD.pdf"
      ]
    }
  ]
}