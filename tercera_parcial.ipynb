{
  "nbformat": 4,
  "nbformat_minor": 0,
  "metadata": {
    "colab": {
      "name": "tercera_parcial",
      "provenance": [],
      "authorship_tag": "ABX9TyMuhsjVTS9qZug8xaYDi0aI",
      "include_colab_link": true
    },
    "kernelspec": {
      "name": "python3",
      "display_name": "Python 3"
    }
  },
  "cells": [
    {
      "cell_type": "markdown",
      "metadata": {
        "id": "view-in-github",
        "colab_type": "text"
      },
      "source": [
        "<a href=\"https://colab.research.google.com/github/ParalelaUnsaac/2020-2/blob/main/tercera_parcial.ipynb\" target=\"_parent\"><img src=\"https://colab.research.google.com/assets/colab-badge.svg\" alt=\"Open In Colab\"/></a>"
      ]
    },
    {
      "cell_type": "code",
      "metadata": {
        "colab": {
          "base_uri": "https://localhost:8080/"
        },
        "id": "GF1ufs7z2K-E",
        "outputId": "767d767d-2972-4032-d0ce-39fa924f0a96"
      },
      "source": [
        "! pip install mpi4py"
      ],
      "execution_count": 1,
      "outputs": [
        {
          "output_type": "stream",
          "text": [
            "Collecting mpi4py\n",
            "\u001b[?25l  Downloading https://files.pythonhosted.org/packages/ec/8f/bbd8de5ba566dd77e408d8136e2bab7fdf2b97ce06cab830ba8b50a2f588/mpi4py-3.0.3.tar.gz (1.4MB)\n",
            "\u001b[K     |████████████████████████████████| 1.4MB 8.5MB/s \n",
            "\u001b[?25hBuilding wheels for collected packages: mpi4py\n",
            "  Building wheel for mpi4py (setup.py) ... \u001b[?25l\u001b[?25hdone\n",
            "  Created wheel for mpi4py: filename=mpi4py-3.0.3-cp37-cp37m-linux_x86_64.whl size=2065202 sha256=68a0f6986d929fb2e30d0b5b3404dcd0e7c76538699091b34e96c2fbd925445a\n",
            "  Stored in directory: /root/.cache/pip/wheels/18/e0/86/2b713dd512199096012ceca61429e12b960888de59818871d6\n",
            "Successfully built mpi4py\n",
            "Installing collected packages: mpi4py\n",
            "Successfully installed mpi4py-3.0.3\n"
          ],
          "name": "stdout"
        }
      ]
    },
    {
      "cell_type": "code",
      "metadata": {
        "colab": {
          "base_uri": "https://localhost:8080/"
        },
        "id": "MA38x0z62L11",
        "outputId": "fb50e358-0d10-43c1-d2ea-f3b196bfd3fe"
      },
      "source": [
        "%%writefile 01masterWorker.py\r\n",
        "from mpi4py import MPI\r\n",
        "\r\n",
        "def main():\r\n",
        "    comm = MPI.COMM_WORLD\r\n",
        "    id = comm.Get_rank()            #number of the process running the code\r\n",
        "    numProcesses = comm.Get_size()  #total number of processes running\r\n",
        "    myHostName = MPI.Get_processor_name()  #machine name running the code\r\n",
        "\r\n",
        "    sendValue = \"'ya se acerca las vacaciones'\"\r\n",
        "    if id == 0:\r\n",
        "      for i in range(1,numProcesses):\r\n",
        "          stat = MPI.Status()\r\n",
        "          receivedValue = comm.recv(source=i)\r\n",
        "          print(\"Recibiendo mensaje {} desde procesador {}\"\\\r\n",
        "          .format(receivedValue, i))\r\n",
        "    else:\r\n",
        "       comm.send(sendValue, dest=0)\r\n",
        "       print(\"Enviando mensaje {} desde procesador {} \"\\\r\n",
        "        .format(sendValue, id))\r\n",
        "\r\n",
        "########## Run the main function\r\n",
        "main()\r\n"
      ],
      "execution_count": 12,
      "outputs": [
        {
          "output_type": "stream",
          "text": [
            "Overwriting 01masterWorker.py\n"
          ],
          "name": "stdout"
        }
      ]
    },
    {
      "cell_type": "code",
      "metadata": {
        "colab": {
          "base_uri": "https://localhost:8080/"
        },
        "id": "qE2kv1lO2TBv",
        "outputId": "c39d462a-93c6-4345-f12f-7c59d6e78984"
      },
      "source": [
        "! mpirun --allow-run-as-root -np 3 python 01masterWorker.py"
      ],
      "execution_count": 13,
      "outputs": [
        {
          "output_type": "stream",
          "text": [
            "Enviando mensaje 'ya se acerca las vacaciones' desde procesador 1 \n",
            "Enviando mensaje 'ya se acerca las vacaciones' desde procesador 2 \n",
            "Recibiendo mensaje 'ya se acerca las vacaciones' desde procesador 1\n",
            "Recibiendo mensaje 'ya se acerca las vacaciones' desde procesador 2\n"
          ],
          "name": "stdout"
        }
      ]
    }
  ]
}