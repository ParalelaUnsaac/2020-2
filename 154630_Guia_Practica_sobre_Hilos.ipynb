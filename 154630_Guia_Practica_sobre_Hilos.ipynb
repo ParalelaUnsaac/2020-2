{
  "nbformat": 4,
  "nbformat_minor": 0,
  "metadata": {
    "colab": {
      "name": "Copy_of_Guia_Practica_sobre_Hilos.ipynb",
      "provenance": [],
      "include_colab_link": true
    },
    "kernelspec": {
      "name": "python3",
      "display_name": "Python 3"
    }
  },
  "cells": [
    {
      "cell_type": "markdown",
      "metadata": {
        "id": "view-in-github",
        "colab_type": "text"
      },
      "source": [
        "<a href=\"https://colab.research.google.com/github/ParalelaUnsaac/2020-2/blob/main/154630_Guia_Practica_sobre_Hilos.ipynb\" target=\"_parent\"><img src=\"https://colab.research.google.com/assets/colab-badge.svg\" alt=\"Open In Colab\"/></a>"
      ]
    },
    {
      "cell_type": "markdown",
      "metadata": {
        "id": "0t6Kh2cjLOYt"
      },
      "source": [
        "**PARALELISMO CON HILOS**"
      ]
    },
    {
      "cell_type": "markdown",
      "metadata": {
        "id": "KzMhMFL_HeKN"
      },
      "source": [
        "El siguiente código **identifica los hilos** utilizados. Las líneas 1-5 comentan el código siguiendo la estructura *input, procedimiento, output*"
      ]
    },
    {
      "cell_type": "code",
      "metadata": {
        "colab": {
          "base_uri": "https://localhost:8080/"
        },
        "id": "Zh7e5suksiyB",
        "outputId": "935f6a27-12d0-4611-b424-8923e776ce7a"
      },
      "source": [
        "#input: nro de hilos\n",
        "#procedimiento:\n",
        "# - Thread_worker() obtiene el nombre de un hilo con la función currentThread().getName() \n",
        "# - cada hilo llama a Thread_worker()\n",
        "#output: Thread_worker() imprime el nombre del hilo tomado\n",
        "\n",
        "import threading\n",
        "  \n",
        "THREADS_COUNT = 3  \n",
        "\n",
        "class Threaded_worker(threading.Thread):\n",
        "    def __init__(self):\n",
        "        threading.Thread.__init__(self)\n",
        "    def run(self):\n",
        "        threadName = threading.currentThread().getName() \n",
        "        print(\"Hola, Soy el thread(hilo) %s\" % threadName)\n",
        "\n",
        "print('Inicializando %d threads...' % THREADS_COUNT)\n",
        "for i in range(THREADS_COUNT):\n",
        "    td = Threaded_worker()\n",
        "    td.start()\n"
      ],
      "execution_count": null,
      "outputs": [
        {
          "output_type": "stream",
          "text": [
            "Inicializando 3 threads...\n",
            "Hola, Soy el thread(hilo) Thread-4\n",
            "Hola, Soy el thread(hilo) Thread-5Hola, Soy el thread(hilo) Thread-6\n",
            "\n"
          ],
          "name": "stdout"
        }
      ]
    },
    {
      "cell_type": "markdown",
      "metadata": {
        "id": "a3M6kv6AJ79t"
      },
      "source": [
        "El siguiente código utiliza la libreria **os** para nombras a los hilos como procesos. Analizar el código y comentarlo siguiendo la estructura *input-procedimiento-output*"
      ]
    },
    {
      "cell_type": "code",
      "metadata": {
        "colab": {
          "base_uri": "https://localhost:8080/"
        },
        "id": "dGbgVg0YsreA",
        "outputId": "5e001c3b-90c5-4f90-afb0-42cca410df84"
      },
      "source": [
        "import multiprocessing\n",
        "import os\n",
        "\n",
        "WORKER_NUMBER = 3\n",
        "\n",
        "def worker():\n",
        "    PID = os.getpid()\n",
        "    print (\"Hola, soy el proceso son PID %d\" % PID)\n",
        "\n",
        "print ('Inicializando %d procesos...' % WORKER_NUMBER)\n",
        "\n",
        "jobs = []\n",
        "for i in range(WORKER_NUMBER):\n",
        "    p = multiprocessing.Process(target=worker, args=())\n",
        "    jobs.append(p)\n",
        "    p.start()"
      ],
      "execution_count": null,
      "outputs": [
        {
          "output_type": "stream",
          "text": [
            "Inicializando 3 procesos...\n",
            "Hola, soy el proceso son PID 322\n",
            "Hola, soy el proceso son PID 325\n",
            "Hola, soy el proceso son PID 326\n"
          ],
          "name": "stdout"
        }
      ]
    },
    {
      "cell_type": "markdown",
      "metadata": {
        "id": "Hapqzy8DKhIH"
      },
      "source": [
        "En el siguiente código ¿Porqué el hilo 3 no se imprime?"
      ]
    },
    {
      "cell_type": "code",
      "metadata": {
        "colab": {
          "base_uri": "https://localhost:8080/"
        },
        "id": "JcG3A2DJD6lr",
        "outputId": "136a1eeb-6685-4f33-e7db-fb935a90f902"
      },
      "source": [
        "import threading\n",
        "def cuenta(n,name):\n",
        "    count=n\n",
        "    while count<3:\n",
        "      print(\"%s in count %s\" % (name, count))\n",
        "      count+=1\n",
        "\n",
        "t = threading.Thread(target=cuenta, args=(1, 'thread1'))\n",
        "t2 = threading.Thread(target=cuenta, args=(2, 'thread2'))\n",
        "t3 = threading.Thread(target=cuenta, args=(3, 'thread3'))\n",
        "\n",
        "t.start()\n",
        "t2.start()\n",
        "t3.start()\n"
      ],
      "execution_count": null,
      "outputs": [
        {
          "output_type": "stream",
          "text": [
            "thread1 in count 1\n",
            "thread1 in count 2\n",
            "thread2 in count 2\n"
          ],
          "name": "stdout"
        }
      ]
    },
    {
      "cell_type": "markdown",
      "metadata": {
        "id": "N96cWNTgV8tb"
      },
      "source": [
        "A continuación vamos a usar la **función time** para verificar el tiempo de paralelización. El codigo a continuación imprime el inició y fin luego de x segundos"
      ]
    },
    {
      "cell_type": "code",
      "metadata": {
        "colab": {
          "base_uri": "https://localhost:8080/"
        },
        "id": "R-NkyeQpmDCG",
        "outputId": "1d34f924-a98b-4e55-e865-bc9552054192"
      },
      "source": [
        "import time\n",
        "\n",
        "print (\"Start : %s\" % time.ctime())\n",
        "time.sleep(4)\n",
        "print (\"End : %s\" % time.ctime())\n"
      ],
      "execution_count": null,
      "outputs": [
        {
          "output_type": "stream",
          "text": [
            "Start : Wed Dec  2 12:08:36 2020\n",
            "End : Wed Dec  2 12:08:40 2020\n"
          ],
          "name": "stdout"
        }
      ]
    },
    {
      "cell_type": "markdown",
      "metadata": {
        "id": "sOB4G5hHW8UQ"
      },
      "source": [
        "El siguiente ejemplo da un espacio entre los hilos, lo cual se verifica con la función time. ¿Existe paralelismo aqui? explicar"
      ]
    },
    {
      "cell_type": "code",
      "metadata": {
        "colab": {
          "base_uri": "https://localhost:8080/"
        },
        "id": "52oIOIKwJKOC",
        "outputId": "320f7d03-d904-4440-9f9b-4dcdd6853720"
      },
      "source": [
        "import threading\n",
        "import time\n",
        "\n",
        "def print_time(name):\n",
        "    count = 0   \n",
        "    print(\"inicio %s: %s. count %s\" % ( name, time.ctime(), count))\n",
        "    while count < 5:\n",
        "        count+=1\n",
        "        print(\"%s: %s. count %s\" % ( name, time.ctime(time.time()), count))\n",
        "\n",
        "        \n",
        "t1 = threading.Thread(target=print_time, args=(\"Thread-1\", ) )\n",
        "t2 = threading.Thread(target=print_time, args=(\"Thread-2\", ) )\n",
        "\n",
        "t1.start()\n",
        "time.sleep(2)\n",
        "t2.start()"
      ],
      "execution_count": null,
      "outputs": [
        {
          "output_type": "stream",
          "text": [
            "inicio Thread-1: Wed Dec  2 12:03:38 2020. count 0\n",
            "Thread-1: Wed Dec  2 12:03:38 2020. count 1\n",
            "Thread-1: Wed Dec  2 12:03:38 2020. count 2\n",
            "Thread-1: Wed Dec  2 12:03:38 2020. count 3\n",
            "Thread-1: Wed Dec  2 12:03:38 2020. count 4\n",
            "Thread-1: Wed Dec  2 12:03:38 2020. count 5\n",
            "inicio Thread-2: Wed Dec  2 12:03:40 2020. count 0\n",
            "Thread-2: Wed Dec  2 12:03:40 2020. count 1\n",
            "Thread-2: Wed Dec  2 12:03:40 2020. count 2\n",
            "Thread-2: Wed Dec  2 12:03:40 2020. count 3\n",
            "Thread-2: Wed Dec  2 12:03:40 2020. count 4\n",
            "Thread-2: Wed Dec  2 12:03:40 2020. count 5\n"
          ],
          "name": "stdout"
        }
      ]
    },
    {
      "cell_type": "markdown",
      "metadata": {
        "id": "XuS0iTU2V6kV"
      },
      "source": [
        "**Problema propuesto:** \n",
        "Ejecute varias veces el código a continuación y explique al menos 2 resultados diferentes"
      ]
    },
    {
      "cell_type": "code",
      "metadata": {
        "colab": {
          "base_uri": "https://localhost:8080/"
        },
        "id": "O-JAYILAMvYF",
        "outputId": "c40c02c7-f65c-4f5f-ccd8-c3437e517a26"
      },
      "source": [
        "#input: nombre del thread y nro de segundos que va tomar el sleep dentro del la funcion print_time()\n",
        "#procedimiento:\n",
        "# - print_time() imprime el nombre del hilo tomado, su tiempo actual de ejecucion, y su valor de count\n",
        "#                y duerme n segundos el cual da paso a otro thread para que se ejecute  \n",
        "# - cada hilo llama a print_time() \n",
        "#output: cada thread imprime los numero del 0 al 5 con sus respectivos nombre de thread y tiempo actual\n",
        "\n",
        "\n",
        "\n",
        "import threading\n",
        "import time\n",
        "\n",
        "def print_time(name, n):\n",
        "    count = 0   \n",
        "    print(\"Para el Hilo: %s, en el momento: %s, su valor de count es: %s\" % ( name, time.ctime(), count))\n",
        "    while count < 5:\n",
        "        time.sleep(n)\n",
        "        count+=1\n",
        "        print(\"%s: %s. count %s\" % ( name, time.ctime(), count))\n",
        "\n",
        "        \n",
        "t1 = threading.Thread(target=print_time, args=(\"Thread-1\", 2, ) )\n",
        "t2 = threading.Thread(target=print_time, args=(\"Thread-2\", 4, ) )\n",
        "\n",
        "t1.start()\n",
        "t2.start()"
      ],
      "execution_count": null,
      "outputs": [
        {
          "output_type": "stream",
          "text": [
            "Para el Hilo: Thread-1, en el momento: Thu Dec  3 05:25:10 2020, su valor de count es: 0\n",
            "Para el Hilo: Thread-2, en el momento: Thu Dec  3 05:25:10 2020, su valor de count es: 0\n"
          ],
          "name": "stdout"
        }
      ]
    },
    {
      "cell_type": "markdown",
      "metadata": {
        "id": "r7ANCXq3_-zi"
      },
      "source": [
        "\n",
        "Resultado 1\n",
        "===========\n",
        "\n",
        "Para el Hilo: Thread-1, en el momento: Wed Dec  2 22:29:38 2020, su valor de count es: 0\\\n",
        "Para el Hilo: Thread-2, en el momento: Wed Dec  2 22:29:38 2020, su valor de count es: 0\\\n",
        "Thread-1: Wed Dec  2 22:29:40 2020. count 1\\\n",
        "Thread-1: Wed Dec  2 22:29:42 2020. count 2\\\n",
        "Thread-2: Wed Dec  2 22:29:42 2020. count 1\\\n",
        "Thread-1: Wed Dec  2 22:29:44 2020. count 3\\\n",
        "Thread-1: Wed Dec  2 22:29:46 2020. count 4\\\n",
        "Thread-2: Wed Dec  2 22:29:46 2020. count 2\\\n",
        "Thread-1: Wed Dec  2 22:29:48 2020. count 5\\\n",
        "Thread-2: Wed Dec  2 22:29:50 2020. count 3\\\n",
        "Thread-2: Wed Dec  2 22:29:54 2020. count 4\\\n",
        "Thread-2: Wed Dec  2 22:29:58 2020. count 5\n",
        "\n",
        "\n",
        "Resultado 2\n",
        "===========\n",
        "\n",
        "Para el Hilo: Thread-1, en el momento: Wed Dec  2 22:31:11 2020, su valor de count es: 0\\\n",
        "Para el Hilo: Thread-2, en el momento: Wed Dec  2 22:31:11 2020, su valor de count es: 0\\\n",
        "Thread-1: Wed Dec  2 23:10:22 2020. count 1\\\n",
        "Thread-2: Wed Dec  2 23:10:24 2020. count 1\\\n",
        "Thread-1: Wed Dec  2 23:10:24 2020. count 2\\\n",
        "Thread-1: Wed Dec  2 23:10:26 2020. count 3\\\n",
        "Thread-2: Wed Dec  2 23:10:28 2020. count 2\\\n",
        "Thread-1: Wed Dec  2 23:10:28 2020. count 4\\\n",
        "Thread-1: Wed Dec  2 23:10:30 2020. count 5\\\n",
        "Thread-2: Wed Dec  2 23:10:32 2020. count 3\\\n",
        "Thread-2: Wed Dec  2 23:10:36 2020. count 4\\\n",
        "Thread-2: Wed Dec  2 23:10:40 2020. count 5\n",
        "\n",
        "\n",
        "Explicacion\n",
        "===========\n",
        "**Primero**\n",
        "\n",
        "El \"Resultado 1\" y \"Resultado 2\" fueron sacados desde mi computadora(cpu de 4 nucleos) ya que en el \"Colaboratory\" no me imprime por completo todo el output(aveces imprime 3 o 4 o 5... lineas pero no todo los que en teoria deberia imprimir) \n",
        "\n",
        "\n",
        "**Segundo**\n",
        "\n",
        "El ejercicio ejecuta el codigo concurrentemente\n",
        "\n",
        "\n",
        "**Tercero**\n",
        "\n",
        "El \"Thread-1\" primero entrara en el print_time() imprimira su nombre de hilo(\"Thread-1\"), su \"momento\", y su valor de \"count\" (\"0\") despues entrara en un while donde tendra que dormir(sleep) por 2 segundos lo cual dara paso para que se ejecute el \"Thread 2\"\n",
        "\n",
        "\n",
        "**Cuarto**\n",
        "\n",
        "El \"Thread-2\" primero entrara en el print_time() imprimira su nombre de hilo(\"Thread-2\"), su \"momento\", y su valor de \"count\" (\"0\") despues entrara en un while donde tendra que dormir(sleep) por 4 segundos mientras eso para el \"Thread-1\" ya habran pasado sus 2 segundo de sleep y podra seguir ejecutandose\n",
        "\n",
        "**Quinto** \n",
        "\n",
        "despues de que \"Thread-1\" haya dormido 2 segundo y tenga el recurso de un nucleo del cpu(el \"Thread-2\" aun sigue durmiendo\") incrementara su \"count\" y imprimira su \"name\" de thread, su \"time\" y su \"count\", en el siguiente bucle del while tendra que dormir(sleep) 2 segundos donde comenzara el caos, si el \"Thread-2\" despierta mas antes que el \"Thread-1\" entonces el \"Tread-2\" continuara con su ejecucion(imprimiendo...)\n",
        "\n",
        "En Conclusion\n",
        "=============\n",
        "\n",
        "El \"Thread-1\" solo dormira(sleep) 2 segundos(cuando entre al While) mientras que el \"Thread-2\" dormira(sleep) 4 segundos(cuando entre al while) y quien se despierte mas antes(terminar el tiempo del sleep) tomara el uso del cpu para continuar su ejecucion lo cual explica porque los outputs despues del while son diferentes"
      ]
    },
    {
      "cell_type": "markdown",
      "metadata": {
        "id": "GvogogqM39ik"
      },
      "source": [
        ""
      ]
    },
    {
      "cell_type": "markdown",
      "metadata": {
        "id": "7WK60CtWZzXA"
      },
      "source": [
        "Fuentes: \n",
        "http://codigo-python.blogspot.com/2016/11/hilos-y-procesos-i.html\n",
        "\n",
        "https://www.tutorialspoint.com/python3/time_sleep.htm\n",
        "\n",
        "https://docs.python.org/es/3/library/threading.html#thread-objects\n",
        "\n",
        "https://en.wikipedia.org/wiki/Flynn%27s_taxonomy\n",
        "\n",
        "https://github.com/antonioam82/ejercicios-python"
      ]
    }
  ]
}