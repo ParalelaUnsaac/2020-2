{
  "nbformat": 4,
  "nbformat_minor": 0,
  "metadata": {
    "colab": {
      "name": "120897_Practica_sobre_Hilos.ipynb",
      "provenance": [],
      "collapsed_sections": [],
      "include_colab_link": true
    },
    "kernelspec": {
      "name": "python3",
      "display_name": "Python 3"
    }
  },
  "cells": [
    {
      "cell_type": "markdown",
      "metadata": {
        "id": "view-in-github",
        "colab_type": "text"
      },
      "source": [
        "<a href=\"https://colab.research.google.com/github/ParalelaUnsaac/2020-2/blob/main/120897_Practica_sobre_Hilos.ipynb\" target=\"_parent\"><img src=\"https://colab.research.google.com/assets/colab-badge.svg\" alt=\"Open In Colab\"/></a>"
      ]
    },
    {
      "cell_type": "markdown",
      "metadata": {
        "id": "0t6Kh2cjLOYt"
      },
      "source": [
        "**PARALELISMO CON HILOS**"
      ]
    },
    {
      "cell_type": "markdown",
      "metadata": {
        "id": "KzMhMFL_HeKN"
      },
      "source": [
        "El siguiente código **identifica los hilos** utilizados. Las líneas 1-5 comentan el código siguiendo la estructura *input, procedimiento, output*"
      ]
    },
    {
      "cell_type": "code",
      "metadata": {
        "colab": {
          "base_uri": "https://localhost:8080/"
        },
        "id": "Zh7e5suksiyB",
        "outputId": "935f6a27-12d0-4611-b424-8923e776ce7a"
      },
      "source": [
        "#input: nro de hilos\n",
        "#procedimiento:\n",
        "# - Thread_worker() obtiene el nombre de un hilo con la función currentThread().getName() \n",
        "# - cada hilo llama a Thread_worker()\n",
        "#output: Thread_worker() imprime el nombre del hilo tomado\n",
        "\n",
        "import threading\n",
        "  \n",
        "THREADS_COUNT = 3  \n",
        "\n",
        "class Threaded_worker(threading.Thread):\n",
        "    def __init__(self):\n",
        "        threading.Thread.__init__(self)\n",
        "    def run(self):\n",
        "        threadName = threading.currentThread().getName() \n",
        "        print(\"Hola, Soy el thread(hilo) %s\" % threadName)\n",
        "\n",
        "print('Inicializando %d threads...' % THREADS_COUNT)\n",
        "for i in range(THREADS_COUNT):\n",
        "    td = Threaded_worker()\n",
        "    td.start()\n"
      ],
      "execution_count": null,
      "outputs": [
        {
          "output_type": "stream",
          "text": [
            "Inicializando 3 threads...\n",
            "Hola, Soy el thread(hilo) Thread-4\n",
            "Hola, Soy el thread(hilo) Thread-5Hola, Soy el thread(hilo) Thread-6\n",
            "\n"
          ],
          "name": "stdout"
        }
      ]
    },
    {
      "cell_type": "markdown",
      "metadata": {
        "id": "a3M6kv6AJ79t"
      },
      "source": [
        "El siguiente código utiliza la libreria **os** para nombras a los hilos como procesos. Analizar el código y comentarlo siguiendo la estructura *input-procedimiento-output*"
      ]
    },
    {
      "cell_type": "code",
      "metadata": {
        "colab": {
          "base_uri": "https://localhost:8080/"
        },
        "id": "dGbgVg0YsreA",
        "outputId": "9fcd5f33-e929-43f1-ca01-099c3bcf53f1"
      },
      "source": [
        "#input: nro de hilos\n",
        "#procedimiento:\n",
        "#-PID = os consigue el ID del Proceso\n",
        "#jobs no apila los IDs que obtendremos q seran imprimidos con worker();\n",
        "#output: p.start inicia worker() e imprime los ID de Proceso;\n",
        "import multiprocessing\n",
        "import os\n",
        "\n",
        "WORKER_NUMBER = 3\n",
        "\n",
        "def worker():\n",
        "    PID = os.getpid()\n",
        "    print (\"Hola, soy el proceso son PID %d\" % PID)\n",
        "\n",
        "print ('Inicializando %d procesos...' % WORKER_NUMBER)\n",
        "\n",
        "jobs = []\n",
        "for i in range(WORKER_NUMBER):\n",
        "    p = multiprocessing.Process(target=worker, args=())\n",
        "    jobs.append(p)\n",
        "    p.start()"
      ],
      "execution_count": null,
      "outputs": [
        {
          "output_type": "stream",
          "text": [
            "Inicializando 3 procesos...\n",
            "Hola, soy el proceso son PID 71\n",
            "Hola, soy el proceso son PID 70\n",
            "Hola, soy el proceso son PID 76\n"
          ],
          "name": "stdout"
        }
      ]
    },
    {
      "cell_type": "markdown",
      "metadata": {
        "id": "Hapqzy8DKhIH"
      },
      "source": [
        "En el siguiente código ¿Porqué el hilo 3 no se imprime?"
      ]
    },
    {
      "cell_type": "code",
      "metadata": {
        "colab": {
          "base_uri": "https://localhost:8080/"
        },
        "id": "JcG3A2DJD6lr",
        "outputId": "7db7e6a6-51fb-4943-b068-33f05206f4bd"
      },
      "source": [
        "#input: hilos\n",
        "#procedimiento:\n",
        "#-Cuenta(n,name) = es un metodo o funcion de argumentos n=numero de inicio del contador y name nombre del hilo\n",
        "# lo que hace es imprimir el Nombre del hilo junto al avance del contador\n",
        "#output: imprimira el nombre junto al contador de cada hilo (t, t1, t2)\n",
        "import threading\n",
        "def cuenta(n,name):\n",
        "    count=n\n",
        "    while count<3:\n",
        "      print(\"%s in count %s\" % (name, count))\n",
        "      count+=1\n",
        "\n",
        "t = threading.Thread(target=cuenta, args=(1, 'thread1'))\n",
        "t2 = threading.Thread(target=cuenta, args=(2, 'thread2'))\n",
        "t3 = threading.Thread(target=cuenta, args=(3, 'thread3'))#*_*\n",
        "\n",
        "t.start()\n",
        "t2.start()\n",
        "t3.start()\n",
        "\n",
        "#Respondiendo a la pregunta\n",
        "#El hilo thread 3 no aparecera ya que el metodo cuenta(n,name) tiene un limite de valores no mayores a 3, ya que el argumento n es 3, no se imprimira nada para thread3"
      ],
      "execution_count": null,
      "outputs": [
        {
          "output_type": "stream",
          "text": [
            "thread1 in count 1\n",
            "thread1 in count 2\n",
            "thread2 in count 2\n"
          ],
          "name": "stdout"
        }
      ]
    },
    {
      "cell_type": "markdown",
      "metadata": {
        "id": "N96cWNTgV8tb"
      },
      "source": [
        "A continuación vamos a usar la **función time** para verificar el tiempo de paralelización. El codigo a continuación imprime el inició y fin luego de x segundos"
      ]
    },
    {
      "cell_type": "code",
      "metadata": {
        "colab": {
          "base_uri": "https://localhost:8080/"
        },
        "id": "R-NkyeQpmDCG",
        "outputId": "1d34f924-a98b-4e55-e865-bc9552054192"
      },
      "source": [
        "import time\n",
        "\n",
        "print (\"Start : %s\" % time.ctime())\n",
        "time.sleep(4)\n",
        "print (\"End : %s\" % time.ctime())\n"
      ],
      "execution_count": null,
      "outputs": [
        {
          "output_type": "stream",
          "text": [
            "Start : Wed Dec  2 12:08:36 2020\n",
            "End : Wed Dec  2 12:08:40 2020\n"
          ],
          "name": "stdout"
        }
      ]
    },
    {
      "cell_type": "markdown",
      "metadata": {
        "id": "sOB4G5hHW8UQ"
      },
      "source": [
        "El siguiente ejemplo da un espacio entre los hilos, lo cual se verifica con la función time. ¿Existe paralelismo aqui? explicar"
      ]
    },
    {
      "cell_type": "code",
      "metadata": {
        "colab": {
          "base_uri": "https://localhost:8080/"
        },
        "id": "52oIOIKwJKOC",
        "outputId": "320f7d03-d904-4440-9f9b-4dcdd6853720"
      },
      "source": [
        "#input: hilos\n",
        "#procedimiento:\n",
        "#-print_time(name) = es un metodo o funcion de argumento name=nombre del hilo\n",
        "# lo que hace es imprimir el nombre del hilo junto al tiempo en el que fue ejecutado y el contador\n",
        "#output: imprimira los datos que nos da print_time(name) relacionados t1 y t2\n",
        "import threading\n",
        "import time\n",
        "\n",
        "def print_time(name):\n",
        "    count = 0   \n",
        "    print(\"inicio %s: %s. count %s\" % ( name, time.ctime(), count))\n",
        "    while count < 5:\n",
        "        count+=1\n",
        "        print(\"%s: %s. count %s\" % ( name, time.ctime(time.time()), count))\n",
        "\n",
        "        \n",
        "t1 = threading.Thread(target=print_time, args=(\"Thread-1\", ) )\n",
        "t2 = threading.Thread(target=print_time, args=(\"Thread-2\", ) )\n",
        "\n",
        "t1.start()\n",
        "time.sleep(2)#*_*\n",
        "t2.start()\n",
        "\n",
        "#Respondiendo a la pregunta\n",
        "#No hay paralelimos ya que en *_* ocurre un alto a nuestra variable tiempo haciendo que nuestro codigo sea secuencial"
      ],
      "execution_count": null,
      "outputs": [
        {
          "output_type": "stream",
          "text": [
            "inicio Thread-1: Wed Dec  2 12:03:38 2020. count 0\n",
            "Thread-1: Wed Dec  2 12:03:38 2020. count 1\n",
            "Thread-1: Wed Dec  2 12:03:38 2020. count 2\n",
            "Thread-1: Wed Dec  2 12:03:38 2020. count 3\n",
            "Thread-1: Wed Dec  2 12:03:38 2020. count 4\n",
            "Thread-1: Wed Dec  2 12:03:38 2020. count 5\n",
            "inicio Thread-2: Wed Dec  2 12:03:40 2020. count 0\n",
            "Thread-2: Wed Dec  2 12:03:40 2020. count 1\n",
            "Thread-2: Wed Dec  2 12:03:40 2020. count 2\n",
            "Thread-2: Wed Dec  2 12:03:40 2020. count 3\n",
            "Thread-2: Wed Dec  2 12:03:40 2020. count 4\n",
            "Thread-2: Wed Dec  2 12:03:40 2020. count 5\n"
          ],
          "name": "stdout"
        }
      ]
    },
    {
      "cell_type": "markdown",
      "metadata": {
        "id": "XuS0iTU2V6kV"
      },
      "source": [
        "**Problema propuesto:** \n",
        "Ejecute varias veces el código a continuación y explique al menos 2 resultados diferentes"
      ]
    },
    {
      "cell_type": "code",
      "metadata": {
        "colab": {
          "base_uri": "https://localhost:8080/"
        },
        "id": "O-JAYILAMvYF",
        "outputId": "803e4957-a5d2-445a-8a9f-a8da1348afb0"
      },
      "source": [
        "#input: hilos\n",
        "#procedimiento:\n",
        "#-print_time(name,n) = es un metodo o funcion de argumento name=nombre del hilo y n=tiempo de Pausa\n",
        "# primero nos imprime el nombre del hilo, el tiempo en el que se ejecuto y el valor del contador count=0\n",
        "# despues nos imprimira lo mismo solo que el tiempo ire de \"n\" en \"n\", es decir, tendra sus Pausas\n",
        "#output: imprimira los datos que nos da print_time(name,n) relacionados t1 y t2\n",
        "import threading\n",
        "import time\n",
        "\n",
        "def print_time(name, n):\n",
        "    count = 0   \n",
        "    print(\"Para el Hilo: %s, en el momento: %s, su valor de count es: %s\" % ( name, time.ctime(), count))\n",
        "    while count < 5:\n",
        "        time.sleep(n)\n",
        "        count+=1\n",
        "        print(\"%s: %s. count %s\" % ( name, time.ctime(), count))\n",
        "\n",
        "        \n",
        "t1 = threading.Thread(target=print_time, args=(\"Thread-1\", 0.02, ) )\n",
        "t2 = threading.Thread(target=print_time, args=(\"Thread-2\", 0.04, ) )\n",
        "\n",
        "t1.start()\n",
        "t2.start()"
      ],
      "execution_count": null,
      "outputs": [
        {
          "output_type": "stream",
          "text": [
            "Para el Hilo: Thread-1, en el momento: Thu Dec  3 02:44:53 2020, su valor de count es: 0\n",
            "Para el Hilo: Thread-2, en el momento: Thu Dec  3 02:44:53 2020, su valor de count es: 0\n",
            "Thread-1: Thu Dec  3 02:44:53 2020. count 1\n",
            "Thread-1: Thu Dec  3 02:44:53 2020. count 2\n",
            "Thread-2: Thu Dec  3 02:44:53 2020. count 1\n",
            "Thread-1: Thu Dec  3 02:44:53 2020. count 3\n",
            "Thread-1: Thu Dec  3 02:44:53 2020. count 4\n",
            "Thread-2: Thu Dec  3 02:44:53 2020. count 2\n",
            "Thread-1: Thu Dec  3 02:44:53 2020. count 5\n",
            "Thread-2: Thu Dec  3 02:44:53 2020. count 3\n",
            "Thread-2: Thu Dec  3 02:44:53 2020. count 4\n",
            "Thread-2: Thu Dec  3 02:44:53 2020. count 5\n"
          ],
          "name": "stdout"
        }
      ]
    },
    {
      "cell_type": "markdown",
      "metadata": {
        "id": "a14_UgIC6H6u"
      },
      "source": [
        "Teniendo los siguientes valores\n",
        "\n",
        "t1 = threading.Thread(target=print_time, args=(\"Thread-1\", 2, ) )\n",
        "\n",
        "t2 = threading.Thread(target=print_time, args=(\"Thread-2\", 4, ) )\n",
        "\n",
        "Nos salieron los siguientes resultados:\n",
        "\n",
        "Respuesta 1  =====================================================\n",
        "\n",
        "Para el Hilo: Thread-1, en el momento: Thu Dec  3 00:02:31 2020, su valor de count es: 0\n",
        "\n",
        "Para el Hilo: Thread-2, en el momento: Thu Dec  3 00:02:31 2020, su valor de count es: 0\n",
        "\n",
        "Respuesta 2  =====================================================\n",
        "\n",
        "Thread-1: Thu Dec  3 00:06:09 2020. count 1\n",
        "\n",
        "Para el Hilo: Thread-1, en el momento: Thu Dec  3 00:06:09 2020, su valor de count es: 0\n",
        "\n",
        "Para el Hilo: Thread-2, en el momento: Thu Dec  3 00:06:09 2020, su valor de count es: 0\n",
        "\n",
        "Respuesta 3  =====================================================\n",
        "\n",
        "Thread-1: Thu Dec  3 00:17:10 2020. count 2\n",
        "\n",
        "Thread-2: Thu Dec  3 00:17:10 2020. count 1\n",
        "\n",
        "Para el Hilo: Thread-1, en el momento: Thu Dec  3 00:17:10 2020, su valor de count es: 0\n",
        "\n",
        "Para el Hilo: Thread-2, en el momento: Thu Dec  3 00:17:10 2020, su valor de count es: 0\n",
        "\n",
        "End=========================================================\n",
        "\n",
        "Dado con la logica del codigo, no deberia darnos ni uno de los tres anterios, a lo que decidi usar un compilador diferente a este, al ejecutar nos da otros resultados que si van con la logica del codigo, se llego a la razón de que el COMPILADOR tiene un tiempo de ejecucion limite, ya que, si reducimos el tiempo de pausa en 0.02 y 0.04 el Codigo funciona Correctamente y hasta nos salen los mismos resultados que el otro compilador, no tiene los ERRORES de la respuesta 2 ó 3, que es darnos el count con un valor diferente a cero. Ya que trabajamos con otro compilador para mostrar el Trabajo mas claro subi un archivo adjunto a este. Por Favor Mirar el archivo Word que llego junto a este.\n",
        "\n"
      ]
    },
    {
      "cell_type": "markdown",
      "metadata": {
        "id": "7WK60CtWZzXA"
      },
      "source": [
        "Fuentes: \n",
        "http://codigo-python.blogspot.com/2016/11/hilos-y-procesos-i.html\n",
        "\n",
        "https://www.tutorialspoint.com/python3/time_sleep.htm\n",
        "\n",
        "https://docs.python.org/es/3/library/threading.html#thread-objects\n",
        "\n",
        "https://en.wikipedia.org/wiki/Flynn%27s_taxonomy\n",
        "\n",
        "https://github.com/antonioam82/ejercicios-python"
      ]
    }
  ]
}