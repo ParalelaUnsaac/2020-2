{
  "nbformat": 4,
  "nbformat_minor": 0,
  "metadata": {
    "colab": {
      "name": " GACO Guia #2: Taxonomia de Flynn",
      "provenance": [],
      "collapsed_sections": [],
      "include_colab_link": true
    },
    "kernelspec": {
      "name": "python3",
      "display_name": "Python 3"
    }
  },
  "cells": [
    {
      "cell_type": "markdown",
      "metadata": {
        "id": "view-in-github",
        "colab_type": "text"
      },
      "source": [
        "<a href=\"https://colab.research.google.com/github/ParalelaUnsaac/2020-2/blob/main/GACO_Guia_2_Taxonomia_de_Flynn.ipynb\" target=\"_parent\"><img src=\"https://colab.research.google.com/assets/colab-badge.svg\" alt=\"Open In Colab\"/></a>"
      ]
    },
    {
      "cell_type": "markdown",
      "metadata": {
        "id": "xCCs96_aEFrD"
      },
      "source": [
        "El siguiente código va a permitir que todo código ejecutado en el colab pueda ser medido"
      ]
    },
    {
      "cell_type": "code",
      "metadata": {
        "colab": {
          "base_uri": "https://localhost:8080/"
        },
        "id": "91EQIkYNzfIU",
        "outputId": "0302246b-f121-4464-e791-7ed67570f38a"
      },
      "source": [
        "!pip install ipython-autotime\r\n",
        "\r\n",
        "%load_ext autotime"
      ],
      "execution_count": null,
      "outputs": [
        {
          "output_type": "stream",
          "text": [
            "Requirement already satisfied: ipython-autotime in /usr/local/lib/python3.6/dist-packages (0.2.0)\n",
            "Requirement already satisfied: ipython in /usr/local/lib/python3.6/dist-packages (from ipython-autotime) (5.5.0)\n",
            "Requirement already satisfied: decorator in /usr/local/lib/python3.6/dist-packages (from ipython->ipython-autotime) (4.4.2)\n",
            "Requirement already satisfied: simplegeneric>0.8 in /usr/local/lib/python3.6/dist-packages (from ipython->ipython-autotime) (0.8.1)\n",
            "Requirement already satisfied: setuptools>=18.5 in /usr/local/lib/python3.6/dist-packages (from ipython->ipython-autotime) (50.3.2)\n",
            "Requirement already satisfied: pexpect; sys_platform != \"win32\" in /usr/local/lib/python3.6/dist-packages (from ipython->ipython-autotime) (4.8.0)\n",
            "Requirement already satisfied: pygments in /usr/local/lib/python3.6/dist-packages (from ipython->ipython-autotime) (2.6.1)\n",
            "Requirement already satisfied: pickleshare in /usr/local/lib/python3.6/dist-packages (from ipython->ipython-autotime) (0.7.5)\n",
            "Requirement already satisfied: traitlets>=4.2 in /usr/local/lib/python3.6/dist-packages (from ipython->ipython-autotime) (4.3.3)\n",
            "Requirement already satisfied: prompt-toolkit<2.0.0,>=1.0.4 in /usr/local/lib/python3.6/dist-packages (from ipython->ipython-autotime) (1.0.18)\n",
            "Requirement already satisfied: ptyprocess>=0.5 in /usr/local/lib/python3.6/dist-packages (from pexpect; sys_platform != \"win32\"->ipython->ipython-autotime) (0.6.0)\n",
            "Requirement already satisfied: ipython-genutils in /usr/local/lib/python3.6/dist-packages (from traitlets>=4.2->ipython->ipython-autotime) (0.2.0)\n",
            "Requirement already satisfied: six in /usr/local/lib/python3.6/dist-packages (from traitlets>=4.2->ipython->ipython-autotime) (1.15.0)\n",
            "Requirement already satisfied: wcwidth in /usr/local/lib/python3.6/dist-packages (from prompt-toolkit<2.0.0,>=1.0.4->ipython->ipython-autotime) (0.2.5)\n",
            "The autotime extension is already loaded. To reload it, use:\n",
            "  %reload_ext autotime\n",
            "time: 2.54 s\n"
          ],
          "name": "stdout"
        }
      ]
    },
    {
      "cell_type": "code",
      "metadata": {
        "colab": {
          "base_uri": "https://localhost:8080/"
        },
        "id": "EfRNKumpFJaN",
        "outputId": "9ce9ad6e-eb4c-4b83-dc09-9261311e34c3"
      },
      "source": [
        "print(sum(range(10)))"
      ],
      "execution_count": null,
      "outputs": [
        {
          "output_type": "stream",
          "text": [
            "45\n",
            "time: 1.01 ms\n"
          ],
          "name": "stdout"
        }
      ]
    },
    {
      "cell_type": "markdown",
      "metadata": {
        "id": "u1gd4K6TFdSn"
      },
      "source": [
        "Pregunta #1: Que porción de 1 segundo es el valor impreso?\r\n",
        "Es mili segundo representado por 1*10^(-3)\r\n",
        "\r\n"
      ]
    },
    {
      "cell_type": "markdown",
      "metadata": {
        "id": "_Hl8sQD1HMKz"
      },
      "source": [
        "\r\n",
        "---\r\n",
        "\r\n"
      ]
    },
    {
      "cell_type": "markdown",
      "metadata": {
        "id": "06N5iGs0F-KK"
      },
      "source": [
        "A seguir, tenemos una librería de Python llamado **numba** que realiza paralelización automatica. Asi, se puede verificar que al usar prange() se tiene mejor tiempo de ejecución que al usar range()"
      ]
    },
    {
      "cell_type": "code",
      "metadata": {
        "colab": {
          "base_uri": "https://localhost:8080/"
        },
        "id": "4pfRIJ1ajxKD",
        "outputId": "11a33a6e-d985-4510-baba-dcbac898aff1"
      },
      "source": [
        "from numba import njit, prange\r\n",
        "import numpy as np\r\n",
        "\r\n",
        "A = np.arange(5, 1600000)\r\n",
        "@njit(parallel=True)\r\n",
        "def prange_test(A):\r\n",
        "    s = 0\r\n",
        "    # Without \"parallel=True\" in the jit-decorator\r\n",
        "    # the prange statement is equivalent to range\r\n",
        "    for i in prange(A.shape[0]):\r\n",
        "        s += A[i]\r\n",
        "    return s\r\n",
        "\r\n",
        "print(prange_test(A))"
      ],
      "execution_count": null,
      "outputs": [
        {
          "output_type": "stream",
          "text": [
            "1279999199990\n",
            "time: 391 ms\n"
          ],
          "name": "stdout"
        }
      ]
    },
    {
      "cell_type": "code",
      "metadata": {
        "colab": {
          "base_uri": "https://localhost:8080/"
        },
        "id": "pmy4BS66k4TB",
        "outputId": "1371d7f2-7724-4326-c5fa-4d46971dd34c"
      },
      "source": [
        "from numba import njit, prange\r\n",
        "import numpy as np\r\n",
        "\r\n",
        "A = np.arange(5, 1600000)\r\n",
        "#@njit(parallel=True)\r\n",
        "def prange_test(A):\r\n",
        "    s = 0\r\n",
        "    # Without \"parallel=True\" in the jit-decorator\r\n",
        "    # the prange statement is equivalent to range\r\n",
        "    for i in range(A.shape[0]):\r\n",
        "        s += A[i]\r\n",
        "    return s\r\n",
        "\r\n",
        "print(prange_test(A))\r\n",
        "\r\n"
      ],
      "execution_count": null,
      "outputs": [
        {
          "output_type": "stream",
          "text": [
            "1279999199990\n",
            "time: 412 ms\n"
          ],
          "name": "stdout"
        }
      ]
    },
    {
      "cell_type": "markdown",
      "metadata": {
        "id": "QAl9s67VKzEh"
      },
      "source": [
        "Pregunta #2: identifique otros valores en A, de manera que, serializando, tengamos mejor resultado que paralelizando\r\n",
        "\r\n",
        "Como se puede observar cuando tenemos un parámetro mas pequeño el mejor resultado vendria a ser serializando pero cuando se va icrementando los parámetros el mejor resultado sería paralelizando"
      ]
    },
    {
      "cell_type": "markdown",
      "metadata": {
        "id": "qk5RRK--LK8H"
      },
      "source": [
        "\r\n",
        "\r\n",
        "---\r\n",
        "\r\n"
      ]
    },
    {
      "cell_type": "markdown",
      "metadata": {
        "id": "vcEN_PS4LOTq"
      },
      "source": [
        "La Taxonomia de Flynn define 4 tipos de arquitecturas para computación paralela: SISD, SIMD, MISD, y MIMD. \r\n",
        "\r\n",
        "\r\n",
        "---\r\n",
        "\r\n",
        "\r\n",
        "Pregunta #3 : El ultimo código ejecutado es de tipo?\r\n",
        "\r\n",
        "SISD ya que es serial secuencial"
      ]
    },
    {
      "cell_type": "markdown",
      "metadata": {
        "id": "Hz_y6QaKM_LQ"
      },
      "source": [
        "\r\n",
        "\r\n",
        "---\r\n",
        "\r\n"
      ]
    },
    {
      "cell_type": "markdown",
      "metadata": {
        "id": "rbyAXmF5NDlv"
      },
      "source": [
        "Pregunta #4: ¿Segun la Tax. de Flynn, De que tipo es el siguiente código paralelo? Comentar el código para justificar su respuesta\r\n",
        "\r\n",
        "\r\n",
        "SIMD por que solo se tiene una sola instruccion que viene a ser print_time(name,n) y se tiene multiples datos como t1 y t2 y cada hilo funciona independientemente "
      ]
    },
    {
      "cell_type": "code",
      "metadata": {
        "colab": {
          "base_uri": "https://localhost:8080/"
        },
        "id": "J4GKbs1mLeVp",
        "outputId": "973d5bb3-2ee6-4881-9a97-17086e01e029"
      },
      "source": [
        "import threading\r\n",
        "import time\r\n",
        "\r\n",
        "def print_time(name, n):\r\n",
        "    count = 0   \r\n",
        "    print(\"Para el Hilo: %s, en el momento: %s, su valor de count es: %s\" % ( name, time.ctime(), count))\r\n",
        "    while count < 5:\r\n",
        "        time.sleep(n)\r\n",
        "        count+=1\r\n",
        "        print(\"%s: %s. count %s\" % ( name, time.ctime(), count))\r\n",
        "\r\n",
        "        \r\n",
        "t1 = threading.Thread(target=print_time, args=(\"Thread-1\", 0, ) )\r\n",
        "t2 = threading.Thread(target=print_time, args=(\"Thread-2\", 0, ) )\r\n",
        "\r\n",
        "t1.start()\r\n",
        "t2.start()"
      ],
      "execution_count": null,
      "outputs": [
        {
          "output_type": "stream",
          "text": [
            "Para el Hilo: Thread-1, en el momento: Wed Dec  9 15:26:34 2020, su valor de count es: 0Para el Hilo: Thread-2, en el momento: Wed Dec  9 15:26:34 2020, su valor de count es: 0\n",
            "Thread-1: Wed Dec  9 15:26:34 2020. count 1\n",
            "Thread-1: Wed Dec  9 15:26:34 2020. count 2\n",
            "Thread-1: Wed Dec  9 15:26:34 2020. count 3\n",
            "Thread-1: Wed Dec  9 15:26:34 2020. count 4\n",
            "Thread-1: Wed Dec  9 15:26:34 2020. count 5\n",
            "time: 6.49 ms\n",
            "\n",
            "Thread-2: Wed Dec  9 15:26:34 2020. count 1\n",
            "Thread-2: Wed Dec  9 15:26:34 2020. count 2\n",
            "Thread-2: Wed Dec  9 15:26:34 2020. count 3\n",
            "Thread-2: Wed Dec  9 15:26:34 2020. count 4\n",
            "Thread-2: Wed Dec  9 15:26:34 2020. count 5\n"
          ],
          "name": "stdout"
        }
      ]
    },
    {
      "cell_type": "markdown",
      "metadata": {
        "id": "kj5mNpdml0F4"
      },
      "source": [
        "\r\n",
        "\r\n",
        "---\r\n",
        "\r\n"
      ]
    },
    {
      "cell_type": "markdown",
      "metadata": {
        "id": "BjPhiBi7k9CH"
      },
      "source": [
        "Una computadora paralela tipo MIMD es utilizado más en la computación distribuida, ejm. Clusters. El siguiente código en python desktop muestra tal funcionamiento"
      ]
    },
    {
      "cell_type": "code",
      "metadata": {
        "id": "3BKSrHpylh-J",
        "colab": {
          "base_uri": "https://localhost:8080/",
          "height": 384
        },
        "outputId": "3fc05762-809a-4cb2-afa8-56067f194c0c"
      },
      "source": [
        "#greeting-server.py\r\n",
        "import Pyro4\r\n",
        "\r\n",
        "@Pyro4.expose\r\n",
        "class GreetingMaker(object):\r\n",
        "    def get_fortune(self, name):\r\n",
        "        return \"Hello, {0}. Here is your fortune message:\\n\" \\\r\n",
        "               \"Behold the warranty -- the bold print giveth and the fine print taketh away.\".format(name)\r\n",
        "\r\n",
        "daemon = Pyro4.Daemon()                # make a Pyro daemon\r\n",
        "uri = daemon.register(GreetingMaker)   # register the greeting maker as a Pyro object\r\n",
        "\r\n",
        "print(\"Ready. Object uri =\", uri)      # print the uri so we can use it in the client later\r\n",
        "daemon.requestLoop()                   # start the event loop of the server to wait for calls"
      ],
      "execution_count": null,
      "outputs": [
        {
          "output_type": "error",
          "ename": "ModuleNotFoundError",
          "evalue": "ignored",
          "traceback": [
            "\u001b[0;31m---------------------------------------------------------------------------\u001b[0m",
            "\u001b[0;31mModuleNotFoundError\u001b[0m                       Traceback (most recent call last)",
            "\u001b[0;32m<ipython-input-39-16e619c81d02>\u001b[0m in \u001b[0;36m<module>\u001b[0;34m()\u001b[0m\n\u001b[1;32m      1\u001b[0m \u001b[0;31m#greeting-server.py\u001b[0m\u001b[0;34m\u001b[0m\u001b[0;34m\u001b[0m\u001b[0;34m\u001b[0m\u001b[0m\n\u001b[0;32m----> 2\u001b[0;31m \u001b[0;32mimport\u001b[0m \u001b[0mPyro4\u001b[0m\u001b[0;34m\u001b[0m\u001b[0;34m\u001b[0m\u001b[0m\n\u001b[0m\u001b[1;32m      3\u001b[0m \u001b[0;34m\u001b[0m\u001b[0m\n\u001b[1;32m      4\u001b[0m \u001b[0;34m@\u001b[0m\u001b[0mPyro4\u001b[0m\u001b[0;34m.\u001b[0m\u001b[0mexpose\u001b[0m\u001b[0;34m\u001b[0m\u001b[0;34m\u001b[0m\u001b[0m\n\u001b[1;32m      5\u001b[0m \u001b[0;32mclass\u001b[0m \u001b[0mGreetingMaker\u001b[0m\u001b[0;34m(\u001b[0m\u001b[0mobject\u001b[0m\u001b[0;34m)\u001b[0m\u001b[0;34m:\u001b[0m\u001b[0;34m\u001b[0m\u001b[0;34m\u001b[0m\u001b[0m\n",
            "\u001b[0;31mModuleNotFoundError\u001b[0m: No module named 'Pyro4'",
            "",
            "\u001b[0;31m---------------------------------------------------------------------------\u001b[0;32m\nNOTE: If your import is failing due to a missing package, you can\nmanually install dependencies using either !pip or !apt.\n\nTo view examples of installing some common dependencies, click the\n\"Open Examples\" button below.\n\u001b[0;31m---------------------------------------------------------------------------\u001b[0m\n"
          ]
        },
        {
          "output_type": "stream",
          "text": [
            "time: 20.7 ms\n"
          ],
          "name": "stdout"
        }
      ]
    },
    {
      "cell_type": "code",
      "metadata": {
        "id": "UrqRam3ulrvh",
        "colab": {
          "base_uri": "https://localhost:8080/",
          "height": 384
        },
        "outputId": "f22a80c2-ba2f-4c53-caba-23fa4e4aed29"
      },
      "source": [
        "#greeting-client.py\r\n",
        "import Pyro4\r\n",
        "\r\n",
        "uri = input(\"What is the Pyro uri of the greeting object? \").strip()\r\n",
        "name = input(\"What is your name? \").strip()\r\n",
        "\r\n",
        "greeting_maker = Pyro4.Proxy(uri)         # get a Pyro proxy to the greeting object\r\n",
        "print(greeting_maker.get_fortune(name))   # call method normally"
      ],
      "execution_count": null,
      "outputs": [
        {
          "output_type": "error",
          "ename": "ModuleNotFoundError",
          "evalue": "ignored",
          "traceback": [
            "\u001b[0;31m---------------------------------------------------------------------------\u001b[0m",
            "\u001b[0;31mModuleNotFoundError\u001b[0m                       Traceback (most recent call last)",
            "\u001b[0;32m<ipython-input-38-bec2d5f5f205>\u001b[0m in \u001b[0;36m<module>\u001b[0;34m()\u001b[0m\n\u001b[1;32m      1\u001b[0m \u001b[0;31m#greeting-client.py\u001b[0m\u001b[0;34m\u001b[0m\u001b[0;34m\u001b[0m\u001b[0;34m\u001b[0m\u001b[0m\n\u001b[0;32m----> 2\u001b[0;31m \u001b[0;32mimport\u001b[0m \u001b[0mPyro4\u001b[0m\u001b[0;34m\u001b[0m\u001b[0;34m\u001b[0m\u001b[0m\n\u001b[0m\u001b[1;32m      3\u001b[0m \u001b[0;34m\u001b[0m\u001b[0m\n\u001b[1;32m      4\u001b[0m \u001b[0muri\u001b[0m \u001b[0;34m=\u001b[0m \u001b[0minput\u001b[0m\u001b[0;34m(\u001b[0m\u001b[0;34m\"What is the Pyro uri of the greeting object? \"\u001b[0m\u001b[0;34m)\u001b[0m\u001b[0;34m.\u001b[0m\u001b[0mstrip\u001b[0m\u001b[0;34m(\u001b[0m\u001b[0;34m)\u001b[0m\u001b[0;34m\u001b[0m\u001b[0;34m\u001b[0m\u001b[0m\n\u001b[1;32m      5\u001b[0m \u001b[0mname\u001b[0m \u001b[0;34m=\u001b[0m \u001b[0minput\u001b[0m\u001b[0;34m(\u001b[0m\u001b[0;34m\"What is your name? \"\u001b[0m\u001b[0;34m)\u001b[0m\u001b[0;34m.\u001b[0m\u001b[0mstrip\u001b[0m\u001b[0;34m(\u001b[0m\u001b[0;34m)\u001b[0m\u001b[0;34m\u001b[0m\u001b[0;34m\u001b[0m\u001b[0m\n",
            "\u001b[0;31mModuleNotFoundError\u001b[0m: No module named 'Pyro4'",
            "",
            "\u001b[0;31m---------------------------------------------------------------------------\u001b[0;32m\nNOTE: If your import is failing due to a missing package, you can\nmanually install dependencies using either !pip or !apt.\n\nTo view examples of installing some common dependencies, click the\n\"Open Examples\" button below.\n\u001b[0;31m---------------------------------------------------------------------------\u001b[0m\n"
          ]
        },
        {
          "output_type": "stream",
          "text": [
            "time: 13.1 ms\n"
          ],
          "name": "stdout"
        }
      ]
    },
    {
      "cell_type": "markdown",
      "metadata": {
        "id": "h177eMCuqEJq"
      },
      "source": [
        "Pregunta #5: Explique que hace este código de tipo MIMD\r\n",
        "\r\n",
        "presenta un sistema con un flujo de múltiples instrucciones que operan sobre múltiples datos usando un servidor se ve que se recibe un nombre de usuario registrado despues se pide que un usuario se loguee con el codigo que se recupera del server luego de loguearse te pide un nombre para asi con la ayuda de este poder entregar un mensaje aleatorio al usuario con una frase."
      ]
    },
    {
      "cell_type": "markdown",
      "metadata": {
        "id": "xPk19-hIqNiY"
      },
      "source": [
        "\r\n",
        "\r\n",
        "---\r\n",
        "\r\n"
      ]
    },
    {
      "cell_type": "markdown",
      "metadata": {
        "id": "XPRR57WRNb3M"
      },
      "source": [
        "Ejercicio Propuesto: Crear un ejemplo que muestre una computación paralela de tipo MISD"
      ]
    },
    {
      "cell_type": "code",
      "metadata": {
        "id": "F_n7n-qbQvC-",
        "colab": {
          "base_uri": "https://localhost:8080/",
          "height": 70
        },
        "outputId": "49972660-bcf1-45f8-aead-8a7a58a2b96a"
      },
      "source": [
        "from numba import njit, prange\r\n",
        "import numpy as np\r\n",
        "A = np.arange(5, 1000)\r\n",
        "#@njit(parallel=True)\r\n",
        "def prange_test(A):\r\n",
        "    s = 0\r\n",
        "    # Without \"parallel=True\" in the jit-decorator\r\n",
        "    # the prange statement is equivalent to range\r\n",
        "    for i in range(A.shape[0]):\r\n",
        "        s += A[i]\r\n",
        "    return s\r\n",
        "def ValPremio(A):\r\n",
        "    s = int(input(\"Ingrese un numero de la suerte: \"))\r\n",
        "    #Verifica\r\n",
        "    if prange_test(A) <= s or prange_test(A)%s==0:\r\n",
        "      return \"Ganaste\"\r\n",
        "    else:\r\n",
        "      return \"Perdiste\"\r\n",
        "\r\n",
        "\r\n",
        "print(prange_test(A))\r\n",
        "ValPremio(A)\r\n",
        "\r\n"
      ],
      "execution_count": null,
      "outputs": [
        {
          "output_type": "stream",
          "text": [
            "499490\n",
            "Ingrese un numero de la suerte: 4\n"
          ],
          "name": "stdout"
        },
        {
          "output_type": "execute_result",
          "data": {
            "application/vnd.google.colaboratory.intrinsic+json": {
              "type": "string"
            },
            "text/plain": [
              "'Perdiste'"
            ]
          },
          "metadata": {
            "tags": []
          },
          "execution_count": 4
        },
        {
          "output_type": "stream",
          "text": [
            "time: 3 s\n"
          ],
          "name": "stdout"
        }
      ]
    },
    {
      "cell_type": "markdown",
      "metadata": {
        "id": "PWXTgUPf5HyJ"
      },
      "source": [
        "en MISD Hay N secuencias de instrucciones y utilizando el mismo dato \r\n",
        "tenemos A quien esta siendo utilizado por dos instrucciones en este caso \r\n",
        "prange_test y ValPremio"
      ]
    },
    {
      "cell_type": "markdown",
      "metadata": {
        "id": "AiVq7B6RmsZI"
      },
      "source": [
        "**Referencias**\r\n",
        "\r\n",
        "https://wiki.python.org/moin/ParallelProcessing\r\n",
        "\r\n",
        "https://numba.readthedocs.io/en/stable/user/parallel.html\r\n",
        "\r\n",
        "https://ao.gl/how-to-measure-execution-time-in-google-colab/\r\n",
        "\r\n",
        "http://noisymime.org/blogimages/SIMD.pdf"
      ]
    }
  ]
}