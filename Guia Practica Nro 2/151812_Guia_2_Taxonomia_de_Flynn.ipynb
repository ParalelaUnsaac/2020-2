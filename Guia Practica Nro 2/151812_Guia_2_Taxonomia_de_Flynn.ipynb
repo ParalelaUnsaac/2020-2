{
  "nbformat": 4,
  "nbformat_minor": 0,
  "metadata": {
    "colab": {
      "name": "151812 Guia #2: Taxonomia de Flynn",
      "provenance": [],
      "collapsed_sections": [],
      "include_colab_link": true
    },
    "kernelspec": {
      "name": "python3",
      "display_name": "Python 3"
    },
    "accelerator": "GPU"
  },
  "cells": [
    {
      "cell_type": "markdown",
      "metadata": {
        "id": "view-in-github",
        "colab_type": "text"
      },
      "source": [
        "<a href=\"https://colab.research.google.com/github/ParalelaUnsaac/2020-2/blob/main/151812_Guia_2_Taxonomia_de_Flynn.ipynb\" target=\"_parent\"><img src=\"https://colab.research.google.com/assets/colab-badge.svg\" alt=\"Open In Colab\"/></a>"
      ]
    },
    {
      "cell_type": "markdown",
      "metadata": {
        "id": "xCCs96_aEFrD"
      },
      "source": [
        "El siguiente código va a permitir que todo código ejecutado en el colab pueda ser medido"
      ]
    },
    {
      "cell_type": "code",
      "metadata": {
        "colab": {
          "base_uri": "https://localhost:8080/"
        },
        "id": "91EQIkYNzfIU",
        "outputId": "2e8d6314-878c-42dc-bfa4-fcb937d8271d"
      },
      "source": [
        "!pip install ipython-autotime\r\n",
        "\r\n",
        "%load_ext autotime"
      ],
      "execution_count": null,
      "outputs": [
        {
          "output_type": "stream",
          "text": [
            "Requirement already satisfied: ipython-autotime in /usr/local/lib/python3.6/dist-packages (0.3.0)\n",
            "Requirement already satisfied: ipython in /usr/local/lib/python3.6/dist-packages (from ipython-autotime) (5.5.0)\n",
            "Requirement already satisfied: traitlets>=4.2 in /usr/local/lib/python3.6/dist-packages (from ipython->ipython-autotime) (4.3.3)\n",
            "Requirement already satisfied: prompt-toolkit<2.0.0,>=1.0.4 in /usr/local/lib/python3.6/dist-packages (from ipython->ipython-autotime) (1.0.18)\n",
            "Requirement already satisfied: setuptools>=18.5 in /usr/local/lib/python3.6/dist-packages (from ipython->ipython-autotime) (51.0.0)\n",
            "Requirement already satisfied: pygments in /usr/local/lib/python3.6/dist-packages (from ipython->ipython-autotime) (2.6.1)\n",
            "Requirement already satisfied: simplegeneric>0.8 in /usr/local/lib/python3.6/dist-packages (from ipython->ipython-autotime) (0.8.1)\n",
            "Requirement already satisfied: pickleshare in /usr/local/lib/python3.6/dist-packages (from ipython->ipython-autotime) (0.7.5)\n",
            "Requirement already satisfied: pexpect; sys_platform != \"win32\" in /usr/local/lib/python3.6/dist-packages (from ipython->ipython-autotime) (4.8.0)\n",
            "Requirement already satisfied: decorator in /usr/local/lib/python3.6/dist-packages (from ipython->ipython-autotime) (4.4.2)\n",
            "Requirement already satisfied: ipython-genutils in /usr/local/lib/python3.6/dist-packages (from traitlets>=4.2->ipython->ipython-autotime) (0.2.0)\n",
            "Requirement already satisfied: six in /usr/local/lib/python3.6/dist-packages (from traitlets>=4.2->ipython->ipython-autotime) (1.15.0)\n",
            "Requirement already satisfied: wcwidth in /usr/local/lib/python3.6/dist-packages (from prompt-toolkit<2.0.0,>=1.0.4->ipython->ipython-autotime) (0.2.5)\n",
            "Requirement already satisfied: ptyprocess>=0.5 in /usr/local/lib/python3.6/dist-packages (from pexpect; sys_platform != \"win32\"->ipython->ipython-autotime) (0.6.0)\n",
            "The autotime extension is already loaded. To reload it, use:\n",
            "  %reload_ext autotime\n",
            "time: 2.02 s (started: 2020-12-31 15:00:13 +00:00)\n"
          ],
          "name": "stdout"
        }
      ]
    },
    {
      "cell_type": "code",
      "metadata": {
        "colab": {
          "base_uri": "https://localhost:8080/"
        },
        "id": "EfRNKumpFJaN",
        "outputId": "ed9a5c0e-9857-4e66-adbd-fe536c5f79fd"
      },
      "source": [
        "print(sum(range(10)))"
      ],
      "execution_count": null,
      "outputs": [
        {
          "output_type": "stream",
          "text": [
            "45\n",
            "time: 815 µs\n"
          ],
          "name": "stdout"
        }
      ]
    },
    {
      "cell_type": "markdown",
      "metadata": {
        "id": "u1gd4K6TFdSn"
      },
      "source": [
        "Pregunta #1: Que porción de 1 segundo es el valor impreso?\r\n",
        "\r\n",
        "1.   se refiere al simbolo de microsegundos   del orden de 10 elevado a la menos 6\r\n",
        "2.   es decir son 880 microsegundos\r\n",
        "\r\n"
      ]
    },
    {
      "cell_type": "markdown",
      "metadata": {
        "id": "_Hl8sQD1HMKz"
      },
      "source": [
        "\r\n",
        "---\r\n",
        "\r\n"
      ]
    },
    {
      "cell_type": "markdown",
      "metadata": {
        "id": "06N5iGs0F-KK"
      },
      "source": [
        "A seguir, tenemos una librería de Python llamado **numba** que realiza paralelización automatica. Asi, se puede verificar que al usar prange() se tiene mejor tiempo de ejecución que al usar range()"
      ]
    },
    {
      "cell_type": "code",
      "metadata": {
        "colab": {
          "base_uri": "https://localhost:8080/"
        },
        "id": "4pfRIJ1ajxKD",
        "outputId": "5151ee03-5f09-48e9-92b9-9533d72a0281"
      },
      "source": [
        "from numba import njit, prange\r\n",
        "import numpy as np\r\n",
        "A = np.arange(5, 14)\r\n",
        "@njit(parallel=True)\r\n",
        "def prange_test(A):\r\n",
        "    s = 0\r\n",
        "    # Without \"parallel=True\" in the jit-decorator\r\n",
        "    # the prange statement is equivalent to range\r\n",
        "    for i in prange(A.shape[0]):\r\n",
        "        s += A[i]\r\n",
        "    return s\r\n",
        "\r\n",
        "print(prange_test(A))"
      ],
      "execution_count": null,
      "outputs": [
        {
          "output_type": "stream",
          "text": [
            "81\n",
            "time: 2.07 s\n"
          ],
          "name": "stdout"
        }
      ]
    },
    {
      "cell_type": "code",
      "metadata": {
        "colab": {
          "base_uri": "https://localhost:8080/"
        },
        "id": "pmy4BS66k4TB",
        "outputId": "7c97aef3-827e-41e3-93ef-84093e8da342"
      },
      "source": [
        "from numba import njit, prange\r\n",
        "import numpy as np\r\n",
        "A = np.arange(5, 14)\r\n",
        "#@njit(parallel=True)\r\n",
        "def prange_test(A):\r\n",
        "    s = 0\r\n",
        "    # Without \"parallel=True\" in the jit-decorator\r\n",
        "    # the prange statement is equivalent to range\r\n",
        "    for i in range(A.shape[0]):\r\n",
        "        s += A[i]\r\n",
        "    return s\r\n",
        "\r\n",
        "print(prange_test(A))\r\n",
        "\r\n"
      ],
      "execution_count": null,
      "outputs": [
        {
          "output_type": "stream",
          "text": [
            "81\n",
            "time: 7.28 ms\n"
          ],
          "name": "stdout"
        }
      ]
    },
    {
      "cell_type": "markdown",
      "metadata": {
        "id": "QAl9s67VKzEh"
      },
      "source": [
        "Pregunta #2: identifique otros valores en A, de manera que, serializando, tengamos mejor resultado que paralelizando\r\n",
        "\r\n",
        "*   Primero existen dos formas de ejcutar nuestro codigo el modo objeyo y y el modo no python\r\n",
        "*   El modo no python es el mas rapido \r\n",
        "*   El decorador @njit nos dice que se va ejecutar en el modo no python\r\n",
        "*   Cuando se agrega la parte paralell lo que hace es paralelizar automaticamente todo el que pueda\r\n",
        "*   Una desventaja de esto es que para calculat operaciones o funciones es mas lenta o para una cantidad menor de numeros sim embargo para cantiddades grandes es mas rapia como en iteracions o loops es mucho mas rapida\r\n",
        "*   Es por eso que si al areglo A tendria muchos valores con el decorador @njit es mas rapida pero si el arreglo A tendira pocos valores se hace mas lento\r\n",
        "\r\n",
        "\r\n"
      ]
    },
    {
      "cell_type": "markdown",
      "metadata": {
        "id": "qk5RRK--LK8H"
      },
      "source": [
        "\r\n",
        "\r\n",
        "---\r\n",
        "\r\n"
      ]
    },
    {
      "cell_type": "markdown",
      "metadata": {
        "id": "vcEN_PS4LOTq"
      },
      "source": [
        "La Taxonomia de Flynn define 4 tipos de arquitecturas para computación paralela: SISD, SIMD, MISD, y MIMD. \r\n",
        "\r\n",
        "\r\n",
        "---\r\n",
        "\r\n",
        "\r\n",
        "Pregunta #3 : El ultimo código ejecutado es de tipo?\r\n",
        "\r\n",
        "*   Es un SIMD esto porque tienes multiples datos pero para cada uno solo hace una instruccion\r\n",
        "por lo tanto seria una sola instruccion y multiples datos\r\n",
        "\r\n",
        "\r\n"
      ]
    },
    {
      "cell_type": "markdown",
      "metadata": {
        "id": "Hz_y6QaKM_LQ"
      },
      "source": [
        "\r\n",
        "\r\n",
        "---\r\n",
        "\r\n"
      ]
    },
    {
      "cell_type": "markdown",
      "metadata": {
        "id": "rbyAXmF5NDlv"
      },
      "source": [
        "Pregunta #4: el siguiente código paralelo es de tipo? Comentar el código para justificar su respuesta\r\n",
        "\r\n",
        "\r\n",
        "*   Es del tipo SIMD ya que solo se ejecuta una sola instruccion pero habra varios datos la cual es usada en la iteracion\r\n",
        "\r\n"
      ]
    },
    {
      "cell_type": "code",
      "metadata": {
        "colab": {
          "base_uri": "https://localhost:8080/"
        },
        "id": "J4GKbs1mLeVp",
        "outputId": "a3ac83f6-077b-4892-cd6d-723451b2e648"
      },
      "source": [
        "import threading\r\n",
        "import time\r\n",
        "\r\n",
        "def print_time(name, n):\r\n",
        "    count = 0   \r\n",
        "    print(\"Para el Hilo: %s, en el momento: %s, su valor de count es: %s\" % ( name, time.ctime(), count))\r\n",
        "    while count < 5:  #se podria interpretar como los datos ya que para cada uno de ellos hace los mismo\r\n",
        "        time.sleep(n)\r\n",
        "        count+=1\r\n",
        "        print(\"%s: %s. count %s\" % ( name, time.ctime(), count))\r\n",
        "\r\n",
        "        \r\n",
        "t1 = threading.Thread(target=print_time, args=(\"Thread-1\", 0, ) )#realiza una soloa instruccion\r\n",
        "t2 = threading.Thread(target=print_time, args=(\"Thread-2\", 0, ) )\r\n",
        "\r\n",
        "t1.start()\r\n",
        "t2.start()\r\n",
        "##por lo tanto es un SIMD"
      ],
      "execution_count": null,
      "outputs": [
        {
          "output_type": "stream",
          "text": [
            "Para el Hilo: Thread-1, en el momento: Thu Dec 10 21:18:06 2020, su valor de count es: 0\n",
            "Thread-1: Thu Dec 10 21:18:06 2020. count 1\n",
            "Thread-1: Thu Dec 10 21:18:06 2020. count 2\n",
            "Thread-1: Thu Dec 10 21:18:06 2020. count 3\n",
            "Thread-1: Thu Dec 10 21:18:06 2020. count 4\n",
            "Thread-1: Thu Dec 10 21:18:06 2020. count 5\n",
            "Para el Hilo: Thread-2, en el momento: Thu Dec 10 21:18:06 2020, su valor de count es: 0\n",
            "Thread-2: Thu Dec 10 21:18:06 2020. count 1\n",
            "Thread-2: Thu Dec 10 21:18:06 2020. count 2\n",
            "Thread-2: Thu Dec 10 21:18:06 2020. count 3\n",
            "Thread-2: Thu Dec 10 21:18:06 2020. count 4\n",
            "Thread-2: Thu Dec 10 21:18:06 2020. count 5\n",
            "time: 13.2 ms\n"
          ],
          "name": "stdout"
        }
      ]
    },
    {
      "cell_type": "markdown",
      "metadata": {
        "id": "kj5mNpdml0F4"
      },
      "source": [
        "\r\n",
        "\r\n",
        "---\r\n",
        "\r\n"
      ]
    },
    {
      "cell_type": "markdown",
      "metadata": {
        "id": "BjPhiBi7k9CH"
      },
      "source": [
        "Una computadora paralela tipo MIMD es utilizado más en la computación distribuida, ejm. Clusters. El siguiente código en python desktop muestra tal funcionamiento"
      ]
    },
    {
      "cell_type": "code",
      "metadata": {
        "id": "3BKSrHpylh-J",
        "colab": {
          "base_uri": "https://localhost:8080/"
        },
        "outputId": "f8c0fe24-bbf1-4a9b-b3f7-8efc8bfdc548"
      },
      "source": [
        "#greeting-server.py\r\n",
        "!!pip install Pyro4\r\n",
        "import Pyro4\r\n",
        "\r\n",
        "@Pyro4.expose   #decorador para exponer las clases, metodos y propiedades de Pyro4\r\n",
        "class GreetingMaker(object):    #se crea un clase que se encarga del saludo\r\n",
        "    def get_fortune(self, name):  #realiza el saludo a un cliente determinado\r\n",
        "        return \"Hello, {0}. Here is your fortune message:\\n\" \\\r\n",
        "               \"Behold the warranty -- the bold print giveth and the fine print taketh away.\".format(name)\r\n",
        "\r\n",
        "daemon = Pyro4.Daemon()                # make a Pyro daemon\r\n",
        "uri = daemon.register(GreetingMaker)   # register the greeting maker as a Pyro object\r\n",
        "\r\n",
        "print(\"Ready. Object uri =\", uri)      # print the uri so we can use it in the client later\r\n",
        "daemon.requestLoop()                   # start the event loop of the server to wait for calls"
      ],
      "execution_count": null,
      "outputs": [
        {
          "output_type": "stream",
          "text": [
            "Ready. Object uri = PYRO:obj_bd19930c45cb4e41b6c6553e8f26e329@localhost:40295\n",
            "time: 4min 41s\n"
          ],
          "name": "stdout"
        }
      ]
    },
    {
      "cell_type": "code",
      "metadata": {
        "id": "UrqRam3ulrvh"
      },
      "source": [
        "#greeting-client.py\r\n",
        "import Pyro4\r\n",
        "\r\n",
        "uri = input(\"What is the Pyro uri of the greeting object? \").strip()  #nos pide el uri ya generado\r\n",
        "name = input(\"What is your name? \").strip()   \r\n",
        "\r\n",
        "#realiza el saludo\r\n",
        "greeting_maker = Pyro4.Proxy(uri)         # get a Pyro proxy to the greeting object\r\n",
        "print(greeting_maker.get_fortune(name))   # call method normally"
      ],
      "execution_count": null,
      "outputs": []
    },
    {
      "cell_type": "markdown",
      "metadata": {
        "id": "h177eMCuqEJq"
      },
      "source": [
        "Pregunta #5: Explique que hace este código de tipo MIMD\r\n",
        "\r\n",
        "\r\n",
        "*   La primera parte del codigo nos indica que se crea la clase para el saludo y se crea un uri posteriormente\r\n",
        "*   A este pueden acceder multiples clientes al mismo tiempo entonces hay muchos datos para los cuales tambien habra multiples instrucciones y todo esto ocurrira al mismo tiempo es decir estan parallelizados\r\n",
        "*   Si ejecutamos la primera parte se creara el url para un determinado grupo al cual podran acceder multiples clientes al mismo tiempo\r\n",
        "*   Asi sucesivamente se crean mulptiples uri\r\n",
        "*   La seguna parte ejecutara el saludo don el repectivo uri si no es el corecto dara un error\r\n",
        "*   Es asi como sucede todo el proceso\r\n"
      ]
    },
    {
      "cell_type": "markdown",
      "metadata": {
        "id": "xPk19-hIqNiY"
      },
      "source": [
        "\r\n",
        "\r\n",
        "---\r\n",
        "\r\n"
      ]
    },
    {
      "cell_type": "markdown",
      "metadata": {
        "id": "XPRR57WRNb3M"
      },
      "source": [
        "Ejercicio Propuesto: Crear un ejemplo que muestre una computación paralela de tipo MISD\r\n",
        "\r\n",
        "\r\n",
        "\r\n",
        "Se puede usar la arquitectura MISD en procesadore SPU(Structure Processing Unit)\r\n",
        "\r\n",
        "*   Si se requiere determinar si un entero positivo dado n es primo. La solución obvia a este problema es probar todos los posibles divisores de n: si ninguno de estos logra dividir n, entonces se dice que n es primo; de lo contrario, se dice que n es compuesto. \r\n",
        "Podemos implementar esta solución como un algoritmo paralelo en una computadora MISD.\r\n",
        "*   La idea es dividir el trabajo de probar divisores entre procesadores. Suponemos que hay tantos procesadores en la computadora paralela como divisores de n. Todos los procesadores toman n como entrada, luego cada uno intenta dividirlo por su divisor asociado y emite una salida apropiada basada en el resultado. \r\n",
        "*   Por tanto, es posible determinar en un paso si n es primo. De manera más realista, si hay menos procesadores que divisores potenciales, entonces a cada procesador se le puede dar el trabajo de probar un subconjunto diferente de estos divisores. \r\n",
        "En cualquier caso, se obtiene una aceleración sustancial sobre una implementación puramente secuencial. \r\n",
        "*   Aunque existen soluciones más eficientes para el problema de las pruebas de primalidad, elegi la simple ya que ilustra el punto sin necesidad de mucha sofisticación matemática.\r\n",
        "\r\n",
        "\r\n",
        "\r\n"
      ]
    },
    {
      "cell_type": "code",
      "metadata": {
        "id": "F_n7n-qbQvC-",
        "colab": {
          "base_uri": "https://localhost:8080/"
        },
        "outputId": "6b5f382b-77d4-4c40-eb33-35f28719c81e"
      },
      "source": [
        "from numba import njit, prange\r\n",
        "import numpy as np\r\n",
        "A = np.arange(1, 100000002)\r\n",
        "@njit(parallel=True)\r\n",
        "def prange_test(A,n):\r\n",
        "    s = 0\r\n",
        "    # Without \"parallel=True\" in the jit-decorator\r\n",
        "    # the prange statement is equivalent to range\r\n",
        "    for i in prange(A.shape[0]):\r\n",
        "      if n%A[i]==0:   #si es divisible contamos como un divisor mas\r\n",
        "        s += 1\r\n",
        "    if s==2:print(n,\"Es primo\")   #si es el numero de divisores es 2 quiere decir que es un primo\r\n",
        "    else :print(n,\"No es primo\")\r\n",
        "\r\n",
        "n=78888837          #probamos con un numero grande\r\n",
        "prange_test(A,n)\r\n"
      ],
      "execution_count": null,
      "outputs": [
        {
          "output_type": "stream",
          "text": [
            "78888837 No es primo\n"
          ],
          "name": "stdout"
        }
      ]
    },
    {
      "cell_type": "code",
      "metadata": {
        "colab": {
          "base_uri": "https://localhost:8080/"
        },
        "id": "eFA7rlNehOaA",
        "outputId": "8970b5d9-efde-41a5-af5e-ed5706071fe5"
      },
      "source": [
        "from numba import njit, prange\r\n",
        "import numpy as np\r\n",
        "A = np.arange(1, 100000002)\r\n",
        "#@njit(parallel=True)\r\n",
        "def prange_test(A,n):\r\n",
        "    s = 0\r\n",
        "    # Without \"parallel=True\" in the jit-decorator\r\n",
        "    # the prange statement is equivalent to range\r\n",
        "    for i in range(A.shape[0]):\r\n",
        "      if n%A[i]==0:     #si es divisible contamos como un divisor mas\r\n",
        "        s += 1\r\n",
        "    if s==2:print(n,\"Es primo\") #si es el numero de divisores es 2 quiere decir que es un primo\r\n",
        "    else :print(n,\"No es primo\")\r\n",
        "n=78888837          #probamos con un numero grande\r\n",
        "prange_test(A,n)"
      ],
      "execution_count": null,
      "outputs": [
        {
          "output_type": "stream",
          "text": [
            "78888837 No es primo\n",
            "time: 54 s\n"
          ],
          "name": "stdout"
        }
      ]
    },
    {
      "cell_type": "markdown",
      "metadata": {
        "id": "7FlbashDm5UC"
      },
      "source": [
        "*   Entonces el primer bloque de codigo es mas veloz comparado con el segundo ya que el primero paraleliza para cada posible divisor de n \r\n",
        "*   El segundo bloque toma 54 segundos de ejecucion compara con el primero que solo le toma 968ms\r\n",
        "*   Este es un simple y claro ejemplo de primalidad en un computador MISD esto porque para un solo dato en este caso n se puede crear muchas instrucciones o unidades de procesamiento\r\n",
        "\r\n",
        "Link de muchas otras aplicaiones o algoritmos en el que se puede usar una determinada arquitectura:\r\n",
        "\r\n",
        "http://research.iaun.ac.ir/pd/saeed-nasri/pdfs/UploadFile_9325.pdf\r\n"
      ]
    },
    {
      "cell_type": "markdown",
      "metadata": {
        "id": "AiVq7B6RmsZI"
      },
      "source": [
        "**Referencias**\r\n",
        "\r\n",
        "https://wiki.python.org/moin/ParallelProcessing\r\n",
        "\r\n",
        "https://numba.readthedocs.io/en/stable/user/parallel.html\r\n",
        "\r\n",
        "https://ao.gl/how-to-measure-execution-time-in-google-colab/\r\n",
        "\r\n",
        "http://noisymime.org/blogimages/SIMD.pdf"
      ]
    }
  ]
}