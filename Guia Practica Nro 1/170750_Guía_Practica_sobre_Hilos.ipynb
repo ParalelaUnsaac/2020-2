{
  "nbformat": 4,
  "nbformat_minor": 0,
  "metadata": {
    "colab": {
      "name": "170750_Guía_Practica_sobre_Hilos.ipynb",
      "provenance": [],
      "include_colab_link": true
    },
    "kernelspec": {
      "name": "python3",
      "display_name": "Python 3"
    }
  },
  "cells": [
    {
      "cell_type": "markdown",
      "metadata": {
        "id": "view-in-github",
        "colab_type": "text"
      },
      "source": [
        "<a href=\"https://colab.research.google.com/github/ParalelaUnsaac/2020-2/blob/main/170750_Gu%C3%ADa_Practica_sobre_Hilos.ipynb\" target=\"_parent\"><img src=\"https://colab.research.google.com/assets/colab-badge.svg\" alt=\"Open In Colab\"/></a>"
      ]
    },
    {
      "cell_type": "markdown",
      "metadata": {
        "id": "0t6Kh2cjLOYt"
      },
      "source": [
        "**PARALELISMO CON HILOS**"
      ]
    },
    {
      "cell_type": "markdown",
      "metadata": {
        "id": "KzMhMFL_HeKN"
      },
      "source": [
        "El siguiente código **identifica los hilos** utilizados. Las líneas 1-5 comentan el código siguiendo la estructura *input, procedimiento, output*"
      ]
    },
    {
      "cell_type": "code",
      "metadata": {
        "colab": {
          "base_uri": "https://localhost:8080/"
        },
        "id": "Zh7e5suksiyB",
        "outputId": "935f6a27-12d0-4611-b424-8923e776ce7a"
      },
      "source": [
        "#input: nro de hilos\n",
        "#procedimiento:\n",
        "# - Thread_worker() obtiene el nombre de un hilo con la función currentThread().getName() \n",
        "# - cada hilo llama a Thread_worker()\n",
        "#output: Thread_worker() imprime el nombre del hilo tomado\n",
        "\n",
        "import threading\n",
        "  \n",
        "THREADS_COUNT = 3  \n",
        "\n",
        "class Threaded_worker(threading.Thread):\n",
        "    def __init__(self):\n",
        "        threading.Thread.__init__(self)\n",
        "    def run(self):\n",
        "        threadName = threading.currentThread().getName() \n",
        "        print(\"Hola, Soy el thread(hilo) %s\" % threadName)\n",
        "\n",
        "print('Inicializando %d threads...' % THREADS_COUNT)\n",
        "for i in range(THREADS_COUNT):\n",
        "    td = Threaded_worker()\n",
        "    td.start()\n"
      ],
      "execution_count": null,
      "outputs": [
        {
          "output_type": "stream",
          "text": [
            "Inicializando 3 threads...\n",
            "Hola, Soy el thread(hilo) Thread-4\n",
            "Hola, Soy el thread(hilo) Thread-5Hola, Soy el thread(hilo) Thread-6\n",
            "\n"
          ],
          "name": "stdout"
        }
      ]
    },
    {
      "cell_type": "markdown",
      "metadata": {
        "id": "a3M6kv6AJ79t"
      },
      "source": [
        "El siguiente código utiliza la libreria **os** para nombras a los hilos como procesos. Analizar el código y comentarlo siguiendo la estructura *input-procedimiento-output*"
      ]
    },
    {
      "cell_type": "code",
      "metadata": {
        "colab": {
          "base_uri": "https://localhost:8080/"
        },
        "id": "dGbgVg0YsreA",
        "outputId": "bb2d6f6f-2ab2-46bc-d55f-2bb0f9f1ec2e"
      },
      "source": [
        "#input: nro de hilos\n",
        "#procedimiento:\n",
        "# - worker() obtiene el ID del proceso con la funcion getpid() e imprime\n",
        "# - cada proceso llama a metodo worker()\n",
        "#output: worker() imprime el nombre de los procesos\n",
        "\n",
        "import multiprocessing\n",
        "import os\n",
        "\n",
        "WORKER_NUMBER = 5\n",
        "\n",
        "def worker():\n",
        "    PID = os.getpid()\n",
        "    print (\"Hola, soy el proceso son PID %d\" % PID)\n",
        "\n",
        "print ('Inicializando %d procesos...' % WORKER_NUMBER)\n",
        "\n",
        "jobs = []\n",
        "for i in range(WORKER_NUMBER):\n",
        "    p = multiprocessing.Process(target=worker, args=())\n",
        "    jobs.append(p)\n",
        "    p.start()"
      ],
      "execution_count": null,
      "outputs": [
        {
          "output_type": "stream",
          "text": [
            "Inicializando 5 procesos...\n",
            "Hola, soy el proceso son PID 119\n",
            "Hola, soy el proceso son PID 122\n",
            "Hola, soy el proceso son PID 123\n",
            "Hola, soy el proceso son PID 126\n",
            "Hola, soy el proceso son PID 127\n"
          ],
          "name": "stdout"
        }
      ]
    },
    {
      "cell_type": "markdown",
      "metadata": {
        "id": "Hapqzy8DKhIH"
      },
      "source": [
        "En el siguiente código ¿Porqué el hilo 3 no se imprime?"
      ]
    },
    {
      "cell_type": "code",
      "metadata": {
        "colab": {
          "base_uri": "https://localhost:8080/"
        },
        "id": "JcG3A2DJD6lr",
        "outputId": "44e0ac5e-0974-41de-bcfc-0e4bc712bdf0"
      },
      "source": [
        "import threading\n",
        "def cuenta(n,name):\n",
        "    count=n\n",
        "    #Para el Hilo 3: tiene como parametros n = 3 por lo que no cumple la condicion del bucle while\n",
        "    #Nunca llega a mostrar nada\n",
        "    while count<3:\n",
        "      print(\"%s in count %s\" % (name, count))\n",
        "      count+=1\n",
        "\n",
        "t = threading.Thread(target=cuenta, args=(1, 'thread1'))\n",
        "t2 = threading.Thread(target=cuenta, args=(2, 'thread2'))\n",
        "t3 = threading.Thread(target=cuenta, args=(3, 'thread3'))\n",
        "\n",
        "t.start()\n",
        "t2.start()\n",
        "t3.start()\n"
      ],
      "execution_count": null,
      "outputs": [
        {
          "output_type": "stream",
          "text": [
            "thread1 in count 1\n",
            "thread1 in count 2\n",
            "thread2 in count 2\n"
          ],
          "name": "stdout"
        }
      ]
    },
    {
      "cell_type": "markdown",
      "metadata": {
        "id": "N96cWNTgV8tb"
      },
      "source": [
        "A continuación vamos a usar la **función time** para verificar el tiempo de paralelización. El codigo a continuación imprime el inició y fin luego de x segundos"
      ]
    },
    {
      "cell_type": "code",
      "metadata": {
        "colab": {
          "base_uri": "https://localhost:8080/"
        },
        "id": "R-NkyeQpmDCG",
        "outputId": "1d34f924-a98b-4e55-e865-bc9552054192"
      },
      "source": [
        "import time\n",
        "\n",
        "print (\"Start : %s\" % time.ctime())\n",
        "time.sleep(4)\n",
        "print (\"End : %s\" % time.ctime())\n"
      ],
      "execution_count": null,
      "outputs": [
        {
          "output_type": "stream",
          "text": [
            "Start : Wed Dec  2 12:08:36 2020\n",
            "End : Wed Dec  2 12:08:40 2020\n"
          ],
          "name": "stdout"
        }
      ]
    },
    {
      "cell_type": "markdown",
      "metadata": {
        "id": "sOB4G5hHW8UQ"
      },
      "source": [
        "El siguiente ejemplo da un espacio entre los hilos, lo cual se verifica con la función time. ¿Existe paralelismo aqui? explicar"
      ]
    },
    {
      "cell_type": "code",
      "metadata": {
        "colab": {
          "base_uri": "https://localhost:8080/"
        },
        "id": "52oIOIKwJKOC",
        "outputId": "5e7feb7a-93e7-4437-ddae-968c531ed291"
      },
      "source": [
        "import threading\n",
        "import time\n",
        "\n",
        "def print_time(name):\n",
        "    count = 0   \n",
        "    print(\"inicio %s: %s. count %s\" % ( name, time.ctime(), count))\n",
        "    while count < 5:\n",
        "        count+=1\n",
        "        print(\"%s: %s. count %s\" % ( name, time.ctime(time.time()), count))\n",
        "\n",
        "        \n",
        "t1 = threading.Thread(target=print_time, args=(\"Thread-1\", ) )\n",
        "t2 = threading.Thread(target=print_time, args=(\"Thread-2\", ) )\n",
        "\n",
        "t1.start()\n",
        "time.sleep(2)\n",
        "t2.start()\n",
        "#Ambos hilos se ejecutan secuecialmente debido al retraso de 2s por el metodo Time.Sleep()"
      ],
      "execution_count": null,
      "outputs": [
        {
          "output_type": "stream",
          "text": [
            "inicio Thread-1: Thu Dec  3 04:13:23 2020. count 0\n",
            "Thread-1: Thu Dec  3 04:13:23 2020. count 1\n",
            "Thread-1: Thu Dec  3 04:13:23 2020. count 2\n",
            "Thread-1: Thu Dec  3 04:13:23 2020. count 3\n",
            "Thread-1: Thu Dec  3 04:13:23 2020. count 4\n",
            "Thread-1: Thu Dec  3 04:13:23 2020. count 5\n",
            "inicio Thread-2: Thu Dec  3 04:13:25 2020. count 0\n",
            "Thread-2: Thu Dec  3 04:13:25 2020. count 1\n",
            "Thread-2: Thu Dec  3 04:13:25 2020. count 2\n",
            "Thread-2: Thu Dec  3 04:13:25 2020. count 3\n",
            "Thread-2: Thu Dec  3 04:13:25 2020. count 4\n",
            "Thread-2: Thu Dec  3 04:13:25 2020. count 5\n"
          ],
          "name": "stdout"
        }
      ]
    },
    {
      "cell_type": "markdown",
      "metadata": {
        "id": "XuS0iTU2V6kV"
      },
      "source": [
        "**Problema propuesto:** \n",
        "Ejecute varias veces el código a continuación y explique al menos 2 resultados diferentes"
      ]
    },
    {
      "cell_type": "code",
      "metadata": {
        "colab": {
          "base_uri": "https://localhost:8080/"
        },
        "id": "O-JAYILAMvYF",
        "outputId": "b839bb3b-aab2-4409-adba-b1901fd6917e"
      },
      "source": [
        "import threading\n",
        "import time\n",
        "\n",
        "def print_time(name, n):\n",
        "    count = 0   \n",
        "    print(\"Para el Hilo: %s, en el momento: %s, su valor de count es: %s\" % ( name, time.ctime(), count))\n",
        "    while count < 5:\n",
        "        time.sleep(n)\n",
        "        count+=1\n",
        "        print(\"%s: %s. count %s\" % ( name, time.ctime(), count))\n",
        "\n",
        "\n",
        "    \n",
        "t1 = threading.Thread(target=print_time, args=(\"Thread-1\", 2, ) )\n",
        "#t2 = threading.Thread(target=print_time, args=(\"Thread-2\", 4, ) )\n",
        "\n",
        "\n",
        "t1.start()\n",
        "#t2.start()"
      ],
      "execution_count": null,
      "outputs": [
        {
          "output_type": "stream",
          "text": [
            "Thread-1: Thu Dec  3 21:58:16 2020. count 5\n",
            "Para el Hilo: Thread-1, en el momento: Thu Dec  3 21:58:16 2020, su valor de count es: 0\n"
          ],
          "name": "stdout"
        }
      ]
    },
    {
      "cell_type": "markdown",
      "metadata": {
        "id": "pw-Y_Dx5e19P"
      },
      "source": [
        "PRIMER RESULTADO:\n",
        "\n",
        "Al ejecutar el codigo el resultado por lo general muetra los nombres de los dos hilos con su contador en 0 (cout = 0).\n",
        "Es decir ambos hilos se ejecutan en paralelo."
      ]
    },
    {
      "cell_type": "markdown",
      "metadata": {
        "id": "NvKIFyWQeYl2"
      },
      "source": [
        "![image.png](data:image/png;base64,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)"
      ]
    },
    {
      "cell_type": "markdown",
      "metadata": {
        "id": "G5Uniuljf0FH"
      },
      "source": [
        "SEGUNDO RESULRTADO:\n",
        "\n",
        "Ejecutando el codigo varias veces, vemos que nos muestra resultados diferentes.\n",
        "Como se ven en la imagen nos muestra los nombres de los hilos con su respectivo contador (cout).\n",
        "\n",
        "\n",
        "*   Para Thread-1 cout = [0, 3 , 4]\n",
        "*   Para Thread-2 cout = [0, 2]\n",
        "\n",
        "Los dos hilos se ejecutaron en paralelo por lo que todas la lineas de codigo del modulo print_time(name, n) se ejecutaron al mismo tiempo (21:22:14), lo cual significa que existe un condicion de carrera lo cual genera un conflicto al momento de mostrar los resultados, es por eso que cada vez que ejecutamos el codigo nos muestra diferentes resultados siendo el PRIMER RESULTADO el mas comun."
      ]
    },
    {
      "cell_type": "markdown",
      "metadata": {
        "id": "Wb1yW68VfFAp"
      },
      "source": [
        "![image.png](data:image/png;base64,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)"
      ]
    },
    {
      "cell_type": "markdown",
      "metadata": {
        "id": "PoNJaWVaiS_1"
      },
      "source": [
        "Python 3.9.0\n",
        "\n",
        "Sin embargo al ejecutar el mismo codigo en python 3.9.0 obtenemos estos resultados.\n",
        "![image.png](data:image/png;base64,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)"
      ]
    },
    {
      "cell_type": "markdown",
      "metadata": {
        "id": "UsJe8eUWjmdb"
      },
      "source": [
        "Cuando el contador es 0, ambos hilos se ejecutan en paralelo, pero cuando ingresa al bucle while este no se ejecuta simultaneamente.\n",
        "\n",
        "En el bucle while cada hilo muestra los resultados con respecto al tiempo de retraso con el que este asignado.\n"
      ]
    },
    {
      "cell_type": "markdown",
      "metadata": {
        "id": "7WK60CtWZzXA"
      },
      "source": [
        "Fuentes: \n",
        "http://codigo-python.blogspot.com/2016/11/hilos-y-procesos-i.html\n",
        "\n",
        "https://www.tutorialspoint.com/python3/time_sleep.htm\n",
        "\n",
        "https://docs.python.org/es/3/library/threading.html#thread-objects\n",
        "\n",
        "https://en.wikipedia.org/wiki/Flynn%27s_taxonomy\n",
        "\n",
        "https://github.com/antonioam82/ejercicios-python"
      ]
    }
  ]
}